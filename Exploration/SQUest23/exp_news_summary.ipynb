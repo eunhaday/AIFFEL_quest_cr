{
 "cells": [
  {
   "cell_type": "markdown",
   "id": "d099e7d9",
   "metadata": {},
   "source": [
    "# 뉴스기사 요약해보기"
   ]
  },
  {
   "cell_type": "markdown",
   "id": "e254026a",
   "metadata": {},
   "source": [
    "* 추상적 요약과 추출적 요약을 모두 해보기"
   ]
  },
  {
   "cell_type": "markdown",
   "id": "36c47515",
   "metadata": {},
   "source": [
    "### 텍스트 요약(Text Summarization)이란?\n",
    "\n",
    " * 텍스트 요약(Text Summarization)이란, \n",
    "  - 긴 길이의 문서(Document) 원문을 핵심 주제만으로 구성된 짧은 요약(Summary) 문장들로 변환하는 것을 말합니다\n",
    "  - ex) 작은 텍스트인 뉴스 제목 뽑기\n",
    "  \n",
    " * 중요한 것은 요약 전후에 정보 손실 발생이 최소화되어야 한다는 점"
   ]
  },
  {
   "cell_type": "markdown",
   "id": "6040e778",
   "metadata": {},
   "source": [
    "### 추출적 요약(Extractive Summarization)\n",
    " * 단어 그대로 원문에서 문장들을 추출해서 요약하는 방식\n",
    "  - 핵심적인 문장을 꺼내와서 몇개의 문장으로 구성된 요약문을 만드는 식\n",
    "  - 머신 러닝 방식에 속하는 텍스트 랭크(TextRank) 알고리즘을 사용\n",
    "  - ex) 네이버 뉴스 서비스에 있는 요약봇 기능\n",
    "  - 문장 분류(Text Classification) 문제로 볼 수 있다"
   ]
  },
  {
   "cell_type": "markdown",
   "id": "a1a2971e",
   "metadata": {},
   "source": [
    "### 추상적 요약(Abstractive Summarization)\n",
    " * 원문으로부터 내용이 요약된 새로운 문장을 생성\n",
    "   - 새로운 문장이라는 것은 결과로 나온 문장이 원문에 원래 없던 문장일 수도 있다는 것을 의미\n",
    "   - 자연어 처리 분야 중 자연어 생성(Natural Language Generation, NLG)의 영역\n",
    "   - RNN : 학습 데이터의 길이가 길어질수록 먼 과거의 정보를 현재에 전달하기 어렵다는 문제가 있습니다. 순차 데이터(Sequential data)\n",
    "   - RNN의 문제를 해결하기 위해 LSTM과 GRU가 등장\n",
    "   - 이 둘도 부족해서 어텐션(Attention) 메커니즘이 등장\n",
    "   - 장기 종속성 문제(Long-Term Dependency Problem)\n",
    "   - 장기 종속성 문제는 순차 데이터에서 학습 시 중요한 정보가 데이터의 시작 부분에 위치할 경우, \n",
    "     네트워크가 시간 경과에 따라 그 정보를 잊어버리는 현상을 말합니다"
   ]
  },
  {
   "cell_type": "markdown",
   "id": "37dd286a",
   "metadata": {},
   "source": [
    "### 주요 라이브러리 버전을 확인"
   ]
  },
  {
   "cell_type": "code",
   "execution_count": 88,
   "id": "37881ac1",
   "metadata": {},
   "outputs": [
    {
     "name": "stdout",
     "output_type": "stream",
     "text": [
      "3.6.5\n",
      "2.6.0\n",
      "1.3.3\n",
      "1.2.0\n"
     ]
    }
   ],
   "source": [
    "from importlib.metadata import version\n",
    "import nltk\n",
    "import tensorflow\n",
    "import summa\n",
    "import pandas as pd\n",
    "\n",
    "print(nltk.__version__)\n",
    "print(tensorflow.__version__)\n",
    "print(pd.__version__)\n",
    "print(version('summa'))"
   ]
  },
  {
   "cell_type": "markdown",
   "id": "1b52e789",
   "metadata": {},
   "source": [
    "### Step 1. 데이터 수집하기"
   ]
  },
  {
   "cell_type": "markdown",
   "id": "71bc0eb7",
   "metadata": {},
   "source": [
    "* 데이터 : 뉴스 기사 데이터(news_summary_more.csv)를 사용\n",
    "* 참조링크 : sunnysai12345/News_Summary (https://github.com/sunnysai12345/News_Summary)"
   ]
  },
  {
   "cell_type": "code",
   "execution_count": 89,
   "id": "8f5cd41b",
   "metadata": {},
   "outputs": [],
   "source": [
    "# 데이터를 다운로드\n",
    "import urllib.request\n",
    "\n",
    "urllib.request.urlretrieve(\"https://raw.githubusercontent.com/sunnysai12345/News_Summary/master/news_summary_more.csv\", filename=\"news_summary_more.csv\")\n",
    "data = pd.read_csv('news_summary_more.csv', encoding='iso-8859-1')"
   ]
  },
  {
   "cell_type": "code",
   "execution_count": 90,
   "id": "0641b962",
   "metadata": {},
   "outputs": [
    {
     "data": {
      "text/html": [
       "<div>\n",
       "<style scoped>\n",
       "    .dataframe tbody tr th:only-of-type {\n",
       "        vertical-align: middle;\n",
       "    }\n",
       "\n",
       "    .dataframe tbody tr th {\n",
       "        vertical-align: top;\n",
       "    }\n",
       "\n",
       "    .dataframe thead th {\n",
       "        text-align: right;\n",
       "    }\n",
       "</style>\n",
       "<table border=\"1\" class=\"dataframe\">\n",
       "  <thead>\n",
       "    <tr style=\"text-align: right;\">\n",
       "      <th></th>\n",
       "      <th>headlines</th>\n",
       "      <th>text</th>\n",
       "    </tr>\n",
       "  </thead>\n",
       "  <tbody>\n",
       "    <tr>\n",
       "      <th>22795</th>\n",
       "      <td>15-yr-old boy arrested for killing aunt with t...</td>\n",
       "      <td>A 15-year-old boy in Tamil Nadu's Chennai has ...</td>\n",
       "    </tr>\n",
       "    <tr>\n",
       "      <th>30098</th>\n",
       "      <td>Jamia's website hacked with 'Happy B'day Pooja...</td>\n",
       "      <td>The official website of Jamia Millia Islamia U...</td>\n",
       "    </tr>\n",
       "    <tr>\n",
       "      <th>62501</th>\n",
       "      <td>Dr Reddy's, Sun Pharma sued over US price-fixi...</td>\n",
       "      <td>Five Indian generic drugmakers including Dr Re...</td>\n",
       "    </tr>\n",
       "    <tr>\n",
       "      <th>92708</th>\n",
       "      <td>50% of India's energy capacity from non-fossil...</td>\n",
       "      <td>Over 50% of India's installed power capacity w...</td>\n",
       "    </tr>\n",
       "    <tr>\n",
       "      <th>93037</th>\n",
       "      <td>Air Canada bumps 10-year-old boy from flight</td>\n",
       "      <td>Air Canada has apologised and offered a \"very ...</td>\n",
       "    </tr>\n",
       "    <tr>\n",
       "      <th>75735</th>\n",
       "      <td>DU girls sleep outside admin block to protest ...</td>\n",
       "      <td>Female students of Delhi University's Hindu Co...</td>\n",
       "    </tr>\n",
       "    <tr>\n",
       "      <th>59556</th>\n",
       "      <td>1 dead, 3 injured after 3-storey building coll...</td>\n",
       "      <td>At least one person died and three people have...</td>\n",
       "    </tr>\n",
       "    <tr>\n",
       "      <th>47071</th>\n",
       "      <td>Maha signs Ã¢ÂÂ¹35k cr MoU with man who built...</td>\n",
       "      <td>The Maharashtra government on Monday signed a ...</td>\n",
       "    </tr>\n",
       "    <tr>\n",
       "      <th>62805</th>\n",
       "      <td>80 militants killed in Kashmir in 6 months: In...</td>\n",
       "      <td>Around 80 militants have been killed in south ...</td>\n",
       "    </tr>\n",
       "    <tr>\n",
       "      <th>43746</th>\n",
       "      <td>French baker fined Ã¢ÂÂ¹2.5 lakh for working ...</td>\n",
       "      <td>A French court has fined baker CÃÂ©dric Vaivr...</td>\n",
       "    </tr>\n",
       "  </tbody>\n",
       "</table>\n",
       "</div>"
      ],
      "text/plain": [
       "                                               headlines  \\\n",
       "22795  15-yr-old boy arrested for killing aunt with t...   \n",
       "30098  Jamia's website hacked with 'Happy B'day Pooja...   \n",
       "62501  Dr Reddy's, Sun Pharma sued over US price-fixi...   \n",
       "92708  50% of India's energy capacity from non-fossil...   \n",
       "93037       Air Canada bumps 10-year-old boy from flight   \n",
       "75735  DU girls sleep outside admin block to protest ...   \n",
       "59556  1 dead, 3 injured after 3-storey building coll...   \n",
       "47071  Maha signs Ã¢ÂÂ¹35k cr MoU with man who built...   \n",
       "62805  80 militants killed in Kashmir in 6 months: In...   \n",
       "43746  French baker fined Ã¢ÂÂ¹2.5 lakh for working ...   \n",
       "\n",
       "                                                    text  \n",
       "22795  A 15-year-old boy in Tamil Nadu's Chennai has ...  \n",
       "30098  The official website of Jamia Millia Islamia U...  \n",
       "62501  Five Indian generic drugmakers including Dr Re...  \n",
       "92708  Over 50% of India's installed power capacity w...  \n",
       "93037  Air Canada has apologised and offered a \"very ...  \n",
       "75735  Female students of Delhi University's Hindu Co...  \n",
       "59556  At least one person died and three people have...  \n",
       "47071  The Maharashtra government on Monday signed a ...  \n",
       "62805  Around 80 militants have been killed in south ...  \n",
       "43746  A French court has fined baker CÃÂ©dric Vaivr...  "
      ]
     },
     "execution_count": 90,
     "metadata": {},
     "output_type": "execute_result"
    }
   ],
   "source": [
    "data.sample(10)"
   ]
  },
  {
   "cell_type": "code",
   "execution_count": 91,
   "id": "91aa8442",
   "metadata": {},
   "outputs": [],
   "source": [
    "# 작업폴더 생성\n",
    "!mkdir -p ~/aiffel/news_summary_more/data"
   ]
  },
  {
   "cell_type": "markdown",
   "id": "45f9a727",
   "metadata": {},
   "source": [
    "* data1폴더를 생성하고 그 폴더에 news_summary_more.csv 파일을 업로드 한다."
   ]
  },
  {
   "cell_type": "code",
   "execution_count": 92,
   "id": "02b05eb5",
   "metadata": {},
   "outputs": [
    {
     "name": "stdout",
     "output_type": "stream",
     "text": [
      "ln: failed to create symbolic link '/aiffel/aiffel/news_summary_more/data/news_summary_more.csv': File exists\r\n"
     ]
    }
   ],
   "source": [
    "#다운로드한 csv파일을 샐성한 작업폴더에 링크 복사함\n",
    "!ln -s ~/data1/*.csv ~/aiffel/news_summary_more/data"
   ]
  },
  {
   "cell_type": "markdown",
   "id": "755005d8",
   "metadata": {},
   "source": [
    "* NLTK의 불용어(stopwords)를 사용\n",
    "* NLTK를 설치하고 NTLK의 데이터셋을 다운로드\n",
    "* NLTK : Natural Language Toolkit의 축약어로 영어 기호, 통계, 자연어 처리를 위한 라이브러리\n",
    "* 불용어를 제거하는 작업을 진행\n",
    "* NLTK 패키지에서 불용어 사전을 다운로드"
   ]
  },
  {
   "cell_type": "code",
   "execution_count": 93,
   "id": "88cdd9ad",
   "metadata": {},
   "outputs": [
    {
     "name": "stderr",
     "output_type": "stream",
     "text": [
      "[nltk_data] Downloading package stopwords to /aiffel/nltk_data...\n",
      "[nltk_data]   Package stopwords is already up-to-date!\n"
     ]
    }
   ],
   "source": [
    "import nltk\n",
    "nltk.download('stopwords')\n",
    "\n",
    "import numpy as np\n",
    "import pandas as pd\n",
    "import os\n",
    "import re\n",
    "import matplotlib.pyplot as plt\n",
    "from nltk.corpus import stopwords\n",
    "from bs4 import BeautifulSoup \n",
    "from tensorflow.keras.preprocessing.text import Tokenizer \n",
    "from tensorflow.keras.preprocessing.sequence import pad_sequences\n",
    "import urllib.request\n",
    "import warnings\n",
    "warnings.filterwarnings(\"ignore\", category=UserWarning, module='bs4')"
   ]
  },
  {
   "cell_type": "code",
   "execution_count": 94,
   "id": "31e9791b",
   "metadata": {},
   "outputs": [
    {
     "name": "stdout",
     "output_type": "stream",
     "text": [
      "전체 샘플수 : 98401\n"
     ]
    }
   ],
   "source": [
    "#데이터셋 로드\n",
    "data = pd.read_csv(os.getenv(\"HOME\")+\"/aiffel/news_summary_more/data/news_summary_more.csv\")\n",
    "\n",
    "print('전체 샘플수 :', (len(data)))"
   ]
  },
  {
   "cell_type": "code",
   "execution_count": 95,
   "id": "4755e612",
   "metadata": {},
   "outputs": [
    {
     "data": {
      "text/html": [
       "<div>\n",
       "<style scoped>\n",
       "    .dataframe tbody tr th:only-of-type {\n",
       "        vertical-align: middle;\n",
       "    }\n",
       "\n",
       "    .dataframe tbody tr th {\n",
       "        vertical-align: top;\n",
       "    }\n",
       "\n",
       "    .dataframe thead th {\n",
       "        text-align: right;\n",
       "    }\n",
       "</style>\n",
       "<table border=\"1\" class=\"dataframe\">\n",
       "  <thead>\n",
       "    <tr style=\"text-align: right;\">\n",
       "      <th></th>\n",
       "      <th>text</th>\n",
       "      <th>headlines</th>\n",
       "    </tr>\n",
       "  </thead>\n",
       "  <tbody>\n",
       "    <tr>\n",
       "      <th>0</th>\n",
       "      <td>Saurav Kant, an alumnus of upGrad and IIIT-B's...</td>\n",
       "      <td>upGrad learner switches to career in ML &amp; Al w...</td>\n",
       "    </tr>\n",
       "    <tr>\n",
       "      <th>1</th>\n",
       "      <td>Kunal Shah's credit card bill payment platform...</td>\n",
       "      <td>Delhi techie wins free food from Swiggy for on...</td>\n",
       "    </tr>\n",
       "    <tr>\n",
       "      <th>2</th>\n",
       "      <td>New Zealand defeated India by 8 wickets in the...</td>\n",
       "      <td>New Zealand end Rohit Sharma-led India's 12-ma...</td>\n",
       "    </tr>\n",
       "    <tr>\n",
       "      <th>3</th>\n",
       "      <td>With Aegon Life iTerm Insurance plan, customer...</td>\n",
       "      <td>Aegon life iTerm insurance plan helps customer...</td>\n",
       "    </tr>\n",
       "    <tr>\n",
       "      <th>4</th>\n",
       "      <td>Speaking about the sexual harassment allegatio...</td>\n",
       "      <td>Have known Hirani for yrs, what if MeToo claim...</td>\n",
       "    </tr>\n",
       "  </tbody>\n",
       "</table>\n",
       "</div>"
      ],
      "text/plain": [
       "                                                text  \\\n",
       "0  Saurav Kant, an alumnus of upGrad and IIIT-B's...   \n",
       "1  Kunal Shah's credit card bill payment platform...   \n",
       "2  New Zealand defeated India by 8 wickets in the...   \n",
       "3  With Aegon Life iTerm Insurance plan, customer...   \n",
       "4  Speaking about the sexual harassment allegatio...   \n",
       "\n",
       "                                           headlines  \n",
       "0  upGrad learner switches to career in ML & Al w...  \n",
       "1  Delhi techie wins free food from Swiggy for on...  \n",
       "2  New Zealand end Rohit Sharma-led India's 12-ma...  \n",
       "3  Aegon life iTerm insurance plan helps customer...  \n",
       "4  Have known Hirani for yrs, what if MeToo claim...  "
      ]
     },
     "execution_count": 95,
     "metadata": {},
     "output_type": "execute_result"
    }
   ],
   "source": [
    "# text와 headlines 컬럼의 데이터만 존재\n",
    "\n",
    "data = data[['text', 'headlines']]  # 'text'와 'headlines' 컬럼만 존재\n",
    "data.head()  #데이터의 첫 5개 행 확인"
   ]
  },
  {
   "cell_type": "code",
   "execution_count": 96,
   "id": "1f2df813",
   "metadata": {},
   "outputs": [
    {
     "data": {
      "text/html": [
       "<div>\n",
       "<style scoped>\n",
       "    .dataframe tbody tr th:only-of-type {\n",
       "        vertical-align: middle;\n",
       "    }\n",
       "\n",
       "    .dataframe tbody tr th {\n",
       "        vertical-align: top;\n",
       "    }\n",
       "\n",
       "    .dataframe thead th {\n",
       "        text-align: right;\n",
       "    }\n",
       "</style>\n",
       "<table border=\"1\" class=\"dataframe\">\n",
       "  <thead>\n",
       "    <tr style=\"text-align: right;\">\n",
       "      <th></th>\n",
       "      <th>text</th>\n",
       "      <th>headlines</th>\n",
       "    </tr>\n",
       "  </thead>\n",
       "  <tbody>\n",
       "    <tr>\n",
       "      <th>10890</th>\n",
       "      <td>A United Nations' study has revealed that the ...</td>\n",
       "      <td>Ozone layer will be completely healed by 2060s...</td>\n",
       "    </tr>\n",
       "    <tr>\n",
       "      <th>42272</th>\n",
       "      <td>On the occasion of Earth Hour on Saturday, Mad...</td>\n",
       "      <td>MP CM Shivraj holds meeting in candlelight dur...</td>\n",
       "    </tr>\n",
       "    <tr>\n",
       "      <th>86211</th>\n",
       "      <td>Adani Group will proceed with its $16.5 billio...</td>\n",
       "      <td>Adani gives final approval to controversial Au...</td>\n",
       "    </tr>\n",
       "    <tr>\n",
       "      <th>16547</th>\n",
       "      <td>In an attempt to highlight the Kashmir issue, ...</td>\n",
       "      <td>Pak issues stamps commemorating Burhan Wani as...</td>\n",
       "    </tr>\n",
       "    <tr>\n",
       "      <th>15121</th>\n",
       "      <td>The teaser of the Kangana Ranaut starrer 'Mani...</td>\n",
       "      <td>Teaser of Kangana Ranaut starrer 'Manikarnika'...</td>\n",
       "    </tr>\n",
       "    <tr>\n",
       "      <th>55376</th>\n",
       "      <td>Reacting to brother Krunal Pandya's wedding an...</td>\n",
       "      <td>Caught n Bowled: Hardik on brother's marriage ...</td>\n",
       "    </tr>\n",
       "    <tr>\n",
       "      <th>47091</th>\n",
       "      <td>An all-woman crew on Monday started operating ...</td>\n",
       "      <td>All-woman crew operate Jaipur station, in 1st ...</td>\n",
       "    </tr>\n",
       "    <tr>\n",
       "      <th>61494</th>\n",
       "      <td>IT giant Infosys' Co-founder Senapathy \"Kris\" ...</td>\n",
       "      <td>Infosys Co-founder invests in big data startup...</td>\n",
       "    </tr>\n",
       "    <tr>\n",
       "      <th>41855</th>\n",
       "      <td>Elon Musk-led electric carmaker Tesla's shares...</td>\n",
       "      <td>Tesla's shares fall 8% in a day, hits lowest v...</td>\n",
       "    </tr>\n",
       "    <tr>\n",
       "      <th>68926</th>\n",
       "      <td>Vishwas Gupta, ex-husband of Honeypreet Insan,...</td>\n",
       "      <td>Ram Rahim made us play Bigg Boss: Honeypreet's...</td>\n",
       "    </tr>\n",
       "  </tbody>\n",
       "</table>\n",
       "</div>"
      ],
      "text/plain": [
       "                                                    text  \\\n",
       "10890  A United Nations' study has revealed that the ...   \n",
       "42272  On the occasion of Earth Hour on Saturday, Mad...   \n",
       "86211  Adani Group will proceed with its $16.5 billio...   \n",
       "16547  In an attempt to highlight the Kashmir issue, ...   \n",
       "15121  The teaser of the Kangana Ranaut starrer 'Mani...   \n",
       "55376  Reacting to brother Krunal Pandya's wedding an...   \n",
       "47091  An all-woman crew on Monday started operating ...   \n",
       "61494  IT giant Infosys' Co-founder Senapathy \"Kris\" ...   \n",
       "41855  Elon Musk-led electric carmaker Tesla's shares...   \n",
       "68926  Vishwas Gupta, ex-husband of Honeypreet Insan,...   \n",
       "\n",
       "                                               headlines  \n",
       "10890  Ozone layer will be completely healed by 2060s...  \n",
       "42272  MP CM Shivraj holds meeting in candlelight dur...  \n",
       "86211  Adani gives final approval to controversial Au...  \n",
       "16547  Pak issues stamps commemorating Burhan Wani as...  \n",
       "15121  Teaser of Kangana Ranaut starrer 'Manikarnika'...  \n",
       "55376  Caught n Bowled: Hardik on brother's marriage ...  \n",
       "47091  All-woman crew operate Jaipur station, in 1st ...  \n",
       "61494  Infosys Co-founder invests in big data startup...  \n",
       "41855  Tesla's shares fall 8% in a day, hits lowest v...  \n",
       "68926  Ram Rahim made us play Bigg Boss: Honeypreet's...  "
      ]
     },
     "execution_count": 96,
     "metadata": {},
     "output_type": "execute_result"
    }
   ],
   "source": [
    "#랜덤한 10개 샘플 출력\n",
    "data.sample(10)"
   ]
  },
  {
   "cell_type": "markdown",
   "id": "b58416d7",
   "metadata": {},
   "source": [
    "* text 열의 내용을 요약한 것이 headlines 열"
   ]
  },
  {
   "cell_type": "markdown",
   "id": "8982614b",
   "metadata": {},
   "source": [
    "* 기사의 본문에 해당되는 text, headlines 두 가지 열로 구성\n",
    "* 추상적 요약 : text를 본문, headlines를 이미 요약된 데이터로 모델을 학습\n",
    "* 추출적 요약 : text열만을 사용"
   ]
  },
  {
   "cell_type": "code",
   "execution_count": 97,
   "id": "65cb4964",
   "metadata": {},
   "outputs": [
    {
     "name": "stdout",
     "output_type": "stream",
     "text": [
      "첫 번째 행의 text 내용: Saurav Kant, an alumnus of upGrad and IIIT-B's PG Program in Machine learning and Artificial Intelligence, was a Sr Systems Engineer at Infosys with almost 5 years of work experience. The program and upGrad's 360-degree career support helped him transition to a Data Scientist at Tech Mahindra with 90% salary hike. upGrad's Online Power Learning has powered 3 lakh+ careers.\n",
      "첫 번째 행의 text 길이: 375\n",
      "첫 번째 행의 headlines 내용: upGrad learner switches to career in ML & Al with 90% salary hike\n",
      "첫 번째 행의 headlines 길이: 65\n"
     ]
    }
   ],
   "source": [
    "# 첫 번째 행의 텍스트 데이터와 길이를 출력\n",
    "first_text = data.loc[0, 'text']  # 첫 번째 행의 'headlines' 컬럼 데이터\n",
    "text_length = len(first_text)    # 텍스트의 길이 계산\n",
    "\n",
    "print(\"첫 번째 행의 text 내용:\", first_text)\n",
    "print(\"첫 번째 행의 text 길이:\", text_length)\n",
    "\n",
    "# 첫 번째 행의 텍스트 데이터와 길이를 출력\n",
    "first_head_text = data.loc[0, 'headlines']  # 첫 번째 행의 'headlines' 컬럼 데이터\n",
    "text_head_length = len(first_head_text)    # 텍스트의 길이 계산\n",
    "\n",
    "print(\"첫 번째 행의 headlines 내용:\", first_head_text)\n",
    "print(\"첫 번째 행의 headlines 길이:\", text_head_length)"
   ]
  },
  {
   "cell_type": "markdown",
   "id": "a5091680",
   "metadata": {},
   "source": [
    "### Step 2. 데이터 전처리하기 (추상적 요약)"
   ]
  },
  {
   "cell_type": "markdown",
   "id": "b2cb6497",
   "metadata": {},
   "source": [
    "* 텍스트를 정규화 또는 정제\n",
    "* 불용어 제거를 선택, 상대적으로 길이가 짧은 요약 데이터에 대해서도 불용어를 제거하는 것이 좋을지 고민"
   ]
  },
  {
   "cell_type": "markdown",
   "id": "69ca43a9",
   "metadata": {},
   "source": [
    "### (1) 데이터 정리하기"
   ]
  },
  {
   "cell_type": "code",
   "execution_count": 98,
   "id": "60244d4e",
   "metadata": {},
   "outputs": [
    {
     "name": "stdout",
     "output_type": "stream",
     "text": [
      "text 열에서 중복을 배제한 유일한 샘플의 수 : 98360\n",
      "headlines 열에서 중복을 배제한 유일한 샘플의 수 : 98280\n"
     ]
    }
   ],
   "source": [
    "print('text 열에서 중복을 배제한 유일한 샘플의 수 :', data['text'].nunique())\n",
    "print('headlines 열에서 중복을 배제한 유일한 샘플의 수 :', data['headlines'].nunique())"
   ]
  },
  {
   "cell_type": "code",
   "execution_count": 99,
   "id": "cc6abbec",
   "metadata": {},
   "outputs": [
    {
     "name": "stdout",
     "output_type": "stream",
     "text": [
      "text 열에서 고유값 종류 : [\"Saurav Kant, an alumnus of upGrad and IIIT-B's PG Program in Machine learning and Artificial Intelligence, was a Sr Systems Engineer at Infosys with almost 5 years of work experience. The program and upGrad's 360-degree career support helped him transition to a Data Scientist at Tech Mahindra with 90% salary hike. upGrad's Online Power Learning has powered 3 lakh+ careers.\"\n",
      " \"Kunal Shah's credit card bill payment platform, CRED, gave users a chance to win free food from Swiggy for one year. Pranav Kaushik, a Delhi techie, bagged this reward after spending 2000 CRED coins. Users get one CRED coin per rupee of bill paid, which can be used to avail rewards from brands like Ixigo, BookMyShow, UberEats, Cult.Fit and more.\"\n",
      " \"New Zealand defeated India by 8 wickets in the fourth ODI at Hamilton on Thursday to win their first match of the five-match ODI series. India lost an international match under Rohit Sharma's captaincy after 12 consecutive victories dating back to March 2018. The match witnessed India getting all out for 92, their seventh lowest total in ODI cricket history.\"\n",
      " ...\n",
      " \"According to reports, a new version of the 1999 science fiction film 'The Matrix' is in development. Michael B Jordan will reportedly play the lead role in the film. Screenwriter Zak Penn is in talks to write the script of the film, reports added. Actor Keanu Reeves starred in the original film, which was followed by two sequels. \"\n",
      " \"A new music video shows rapper Snoop Dogg aiming a toy gun at a clown character parodying US President Donald Trump. The video also shows a TV airing a news conference with the headline 'Ronald Klump wants to deport all doggs' airing live from 'The Clown House'. The video is for a remixed version of the song 'Lavender'.\"\n",
      " 'Madhesi Morcha, an alliance of seven political parties, has withdrawn support to PM Pushpa Kamal Dahal-led Nepal government after it failed to meet a seven-day ultimatum to fulfil their demands including endorsement for the revised Constitution amendment bill. The Morcha has 36 seats in the Parliament, but despite the withdrawal of support, there is no immediate threat to the government.']\n",
      "headlines 열에서 고유값 종류 : ['upGrad learner switches to career in ML & Al with 90% salary hike'\n",
      " 'Delhi techie wins free food from Swiggy for one year on CRED'\n",
      " \"New Zealand end Rohit Sharma-led India's 12-match winning streak\" ...\n",
      " \"'The Matrix' film to get a reboot: Reports\"\n",
      " 'Snoop Dogg aims gun at clown dressed as Trump in new video '\n",
      " 'Madhesi Morcha withdraws support to Nepalese government']\n"
     ]
    }
   ],
   "source": [
    "print('text 열에서 고유값 종류 :', data['text'].unique())\n",
    "print('headlines 열에서 고유값 종류 :', data['headlines'].unique())"
   ]
  },
  {
   "cell_type": "markdown",
   "id": "423e80b2",
   "metadata": {},
   "source": [
    "### 중복 샘플을 제거"
   ]
  },
  {
   "cell_type": "code",
   "execution_count": 100,
   "id": "0b78abbc",
   "metadata": {},
   "outputs": [
    {
     "name": "stdout",
     "output_type": "stream",
     "text": [
      "전체 샘플수 : 98360\n"
     ]
    }
   ],
   "source": [
    "# 데이터프레임의 drop_duplicates()를 사용하여, 중복 샘플을 제거\n",
    "\n",
    "# inplace=True 를 설정하면 DataFrame 타입 값을 return 하지 않고 data 내부를 직접적으로 바꿉니다\n",
    "data.drop_duplicates(subset = ['text'], inplace=True)\n",
    "print('전체 샘플수 :', (len(data)))"
   ]
  },
  {
   "cell_type": "markdown",
   "id": "d0d19dd8",
   "metadata": {},
   "source": [
    "### Null 값이 있는지 확인"
   ]
  },
  {
   "cell_type": "code",
   "execution_count": 101,
   "id": "e5333732",
   "metadata": {},
   "outputs": [
    {
     "name": "stdout",
     "output_type": "stream",
     "text": [
      "text         0\n",
      "headlines    0\n",
      "dtype: int64\n"
     ]
    }
   ],
   "source": [
    "#데이터프레임에 Null 값이 있는지 확인하는 방법은 .isnull().sum()을 사용\n",
    "\n",
    "print(data.isnull().sum())"
   ]
  },
  {
   "cell_type": "markdown",
   "id": "d3456600",
   "metadata": {},
   "source": [
    "### 텍스트 정규화와 불용어 제거"
   ]
  },
  {
   "cell_type": "markdown",
   "id": "4e43acf7",
   "metadata": {},
   "source": [
    "* 텍스트 정규화(text normalization) : 같은 의미인데도 다른 표현으로 쓰인 단어를 학습 전에 미리 같은 표현으로 통일시켜주는 것\n",
    "* 텍스트 정규화를 위한 사전(dictionary)을 아래와 같이 구성"
   ]
  },
  {
   "cell_type": "code",
   "execution_count": 102,
   "id": "4e1331d8",
   "metadata": {},
   "outputs": [
    {
     "name": "stdout",
     "output_type": "stream",
     "text": [
      "정규화 사전의 수:  120\n"
     ]
    }
   ],
   "source": [
    "contractions = {\"ain't\": \"is not\", \"aren't\": \"are not\",\"can't\": \"cannot\", \"'cause\": \"because\", \"could've\": \"could have\", \"couldn't\": \"could not\",\n",
    "                           \"didn't\": \"did not\",  \"doesn't\": \"does not\", \"don't\": \"do not\", \"hadn't\": \"had not\", \"hasn't\": \"has not\", \"haven't\": \"have not\",\n",
    "                           \"he'd\": \"he would\",\"he'll\": \"he will\", \"he's\": \"he is\", \"how'd\": \"how did\", \"how'd'y\": \"how do you\", \"how'll\": \"how will\", \"how's\": \"how is\",\n",
    "                           \"I'd\": \"I would\", \"I'd've\": \"I would have\", \"I'll\": \"I will\", \"I'll've\": \"I will have\",\"I'm\": \"I am\", \"I've\": \"I have\", \"i'd\": \"i would\",\n",
    "                           \"i'd've\": \"i would have\", \"i'll\": \"i will\",  \"i'll've\": \"i will have\",\"i'm\": \"i am\", \"i've\": \"i have\", \"isn't\": \"is not\", \"it'd\": \"it would\",\n",
    "                           \"it'd've\": \"it would have\", \"it'll\": \"it will\", \"it'll've\": \"it will have\",\"it's\": \"it is\", \"let's\": \"let us\", \"ma'am\": \"madam\",\n",
    "                           \"mayn't\": \"may not\", \"might've\": \"might have\",\"mightn't\": \"might not\",\"mightn't've\": \"might not have\", \"must've\": \"must have\",\n",
    "                           \"mustn't\": \"must not\", \"mustn't've\": \"must not have\", \"needn't\": \"need not\", \"needn't've\": \"need not have\",\"o'clock\": \"of the clock\",\n",
    "                           \"oughtn't\": \"ought not\", \"oughtn't've\": \"ought not have\", \"shan't\": \"shall not\", \"sha'n't\": \"shall not\", \"shan't've\": \"shall not have\",\n",
    "                           \"she'd\": \"she would\", \"she'd've\": \"she would have\", \"she'll\": \"she will\", \"she'll've\": \"she will have\", \"she's\": \"she is\",\n",
    "                           \"should've\": \"should have\", \"shouldn't\": \"should not\", \"shouldn't've\": \"should not have\", \"so've\": \"so have\",\"so's\": \"so as\",\n",
    "                           \"this's\": \"this is\",\"that'd\": \"that would\", \"that'd've\": \"that would have\", \"that's\": \"that is\", \"there'd\": \"there would\",\n",
    "                           \"there'd've\": \"there would have\", \"there's\": \"there is\", \"here's\": \"here is\",\"they'd\": \"they would\", \"they'd've\": \"they would have\",\n",
    "                           \"they'll\": \"they will\", \"they'll've\": \"they will have\", \"they're\": \"they are\", \"they've\": \"they have\", \"to've\": \"to have\",\n",
    "                           \"wasn't\": \"was not\", \"we'd\": \"we would\", \"we'd've\": \"we would have\", \"we'll\": \"we will\", \"we'll've\": \"we will have\", \"we're\": \"we are\",\n",
    "                           \"we've\": \"we have\", \"weren't\": \"were not\", \"what'll\": \"what will\", \"what'll've\": \"what will have\", \"what're\": \"what are\",\n",
    "                           \"what's\": \"what is\", \"what've\": \"what have\", \"when's\": \"when is\", \"when've\": \"when have\", \"where'd\": \"where did\", \"where's\": \"where is\",\n",
    "                           \"where've\": \"where have\", \"who'll\": \"who will\", \"who'll've\": \"who will have\", \"who's\": \"who is\", \"who've\": \"who have\",\n",
    "                           \"why's\": \"why is\", \"why've\": \"why have\", \"will've\": \"will have\", \"won't\": \"will not\", \"won't've\": \"will not have\",\n",
    "                           \"would've\": \"would have\", \"wouldn't\": \"would not\", \"wouldn't've\": \"would not have\", \"y'all\": \"you all\",\n",
    "                           \"y'all'd\": \"you all would\",\"y'all'd've\": \"you all would have\",\"y'all're\": \"you all are\",\"y'all've\": \"you all have\",\n",
    "                           \"you'd\": \"you would\", \"you'd've\": \"you would have\", \"you'll\": \"you will\", \"you'll've\": \"you will have\",\n",
    "                           \"you're\": \"you are\", \"you've\": \"you have\"}\n",
    "\n",
    "print(\"정규화 사전의 수: \", len(contractions))"
   ]
  },
  {
   "cell_type": "markdown",
   "id": "e197e1fd",
   "metadata": {},
   "source": [
    "* 불용어(stopwords): 텍스트에는 자주 등장하지만 자연어 처리를 할 때 실질적으로 별 도움이 되지 않는 단어들"
   ]
  },
  {
   "cell_type": "code",
   "execution_count": 103,
   "id": "be83caaa",
   "metadata": {},
   "outputs": [
    {
     "name": "stdout",
     "output_type": "stream",
     "text": [
      "불용어 개수 : 179\n",
      "['i', 'me', 'my', 'myself', 'we', 'our', 'ours', 'ourselves', 'you', \"you're\", \"you've\", \"you'll\", \"you'd\", 'your', 'yours', 'yourself', 'yourselves', 'he', 'him', 'his', 'himself', 'she', \"she's\", 'her', 'hers', 'herself', 'it', \"it's\", 'its', 'itself', 'they', 'them', 'their', 'theirs', 'themselves', 'what', 'which', 'who', 'whom', 'this', 'that', \"that'll\", 'these', 'those', 'am', 'is', 'are', 'was', 'were', 'be', 'been', 'being', 'have', 'has', 'had', 'having', 'do', 'does', 'did', 'doing', 'a', 'an', 'the', 'and', 'but', 'if', 'or', 'because', 'as', 'until', 'while', 'of', 'at', 'by', 'for', 'with', 'about', 'against', 'between', 'into', 'through', 'during', 'before', 'after', 'above', 'below', 'to', 'from', 'up', 'down', 'in', 'out', 'on', 'off', 'over', 'under', 'again', 'further', 'then', 'once', 'here', 'there', 'when', 'where', 'why', 'how', 'all', 'any', 'both', 'each', 'few', 'more', 'most', 'other', 'some', 'such', 'no', 'nor', 'not', 'only', 'own', 'same', 'so', 'than', 'too', 'very', 's', 't', 'can', 'will', 'just', 'don', \"don't\", 'should', \"should've\", 'now', 'd', 'll', 'm', 'o', 're', 've', 'y', 'ain', 'aren', \"aren't\", 'couldn', \"couldn't\", 'didn', \"didn't\", 'doesn', \"doesn't\", 'hadn', \"hadn't\", 'hasn', \"hasn't\", 'haven', \"haven't\", 'isn', \"isn't\", 'ma', 'mightn', \"mightn't\", 'mustn', \"mustn't\", 'needn', \"needn't\", 'shan', \"shan't\", 'shouldn', \"shouldn't\", 'wasn', \"wasn't\", 'weren', \"weren't\", 'won', \"won't\", 'wouldn', \"wouldn't\"]\n"
     ]
    }
   ],
   "source": [
    "print('불용어 개수 :', len(stopwords.words('english') ))\n",
    "print(stopwords.words('english'))"
   ]
  },
  {
   "cell_type": "markdown",
   "id": "2f0ee5ca",
   "metadata": {},
   "source": [
    "* NLTK에서 미리 정의하여 제공하고 있는 불용어는 총 179\n",
    "* 불용어를 제거, 모든 영어 문자는 소문자로 변경, 섞여있는 html 태그를 제거, 정규 표현식을 통해 각종 특수문자를 제거\n",
    "* text 전처리 시에서만 호출, headlines 전처리할 때는 호출하지 않을 예정\n",
    "* Abstractive한 문장 요약을 위해서 remove_stopwords를 추가"
   ]
  },
  {
   "cell_type": "markdown",
   "id": "17c8754a",
   "metadata": {},
   "source": [
    "### 구현한 데이터 전처리 함수"
   ]
  },
  {
   "cell_type": "code",
   "execution_count": 104,
   "id": "7494a040",
   "metadata": {},
   "outputs": [
    {
     "name": "stdout",
     "output_type": "stream",
     "text": [
      "=3\n"
     ]
    }
   ],
   "source": [
    "# 데이터 전처리 함수\n",
    "\n",
    "def preprocess_sentence(sentence, remove_stopwords=True):\n",
    "    sentence = sentence.lower() # 텍스트 소문자화\n",
    "    sentence = BeautifulSoup(sentence, \"lxml\").text # <br />, <a href = ...> 등의 html 태그 제거\n",
    "    sentence = re.sub(r'\\([^)]*\\)', '', sentence) # 괄호로 닫힌 문자열 (...) 제거 Ex) my husband (and myself!) for => my husband for\n",
    "    sentence = re.sub('\"','', sentence) # 쌍따옴표 \" 제거\n",
    "    sentence = ' '.join([contractions[t] if t in contractions else t for t in sentence.split(\" \")]) # 약어 정규화\n",
    "    sentence = re.sub(r\"'s\\b\",\"\", sentence) # 소유격 제거. Ex) roland's -> roland\n",
    "    sentence = re.sub(\"[^a-zA-Z]\", \" \", sentence) # 영어 외 문자(숫자, 특수문자 등) 공백으로 변환\n",
    "    sentence = re.sub('[m]{2,}', 'mm', sentence) # m이 3개 이상이면 2개로 변경. Ex) ummmmmmm yeah -> umm yeah\n",
    "    \n",
    "    # 불용어 제거 (text)\n",
    "    if remove_stopwords:        \n",
    "        # 문장을 공백 기준으로 나누어 단어 리스트생성(sentence.split), 단어가 불용어에 속하지 않을 경우만 포함, 길이가 1 이하인 단어 제거\n",
    "        tokens = ' '.join(word for word in sentence.split() if not word in stopwords.words('english') if len(word) > 1)\n",
    "    \n",
    "    # 불용어 미제거 (headlines)\n",
    "    else:\n",
    "        #불용어를 제거하지 않고, 단순히 길이가 1 이하인 단어만 제외하고 나머지를 모두 포함\n",
    "        tokens = ' '.join(word for word in sentence.split() if len(word) > 1)\n",
    "    return tokens\n",
    "\n",
    "print('=3')"
   ]
  },
  {
   "cell_type": "markdown",
   "id": "a4ac6452",
   "metadata": {},
   "source": [
    "### 데이터 전처리 test 결과"
   ]
  },
  {
   "cell_type": "code",
   "execution_count": 105,
   "id": "b67edaae",
   "metadata": {},
   "outputs": [
    {
     "name": "stdout",
     "output_type": "stream",
     "text": [
      "text:  everything bought great infact ordered twice third ordered wasfor mother father\n",
      "headlines: great way to start the day\n"
     ]
    }
   ],
   "source": [
    "# 전처리 전, 후의 결과를 확인하기 위해서 임의의 text와 headlines을 만들어 함수를 호출\n",
    "\n",
    "temp_text = 'Everything I bought was great, infact I ordered twice and the third ordered was<br />for my mother and father.'\n",
    "temp_headlines = 'Great way to start (or finish) the day!!!'\n",
    "\n",
    "print(\"text: \", preprocess_sentence(temp_text))\n",
    "print(\"headlines:\", preprocess_sentence(temp_headlines, False))  # 불용어를 제거하지 않습니다."
   ]
  },
  {
   "cell_type": "code",
   "execution_count": 107,
   "id": "ed4e40d8",
   "metadata": {},
   "outputs": [
    {
     "name": "stdout",
     "output_type": "stream",
     "text": [
      "text 전처리 후 결과:  ['saurav kant alumnus upgrad iiit pg program machine learning artificial intelligence sr systems engineer infosys almost years work experience program upgrad degree career support helped transition data scientist tech mahindra salary hike upgrad online power learning powered lakh careers', 'kunal shah credit card bill payment platform cred gave users chance win free food swiggy one year pranav kaushik delhi techie bagged reward spending cred coins users get one cred coin per rupee bill paid used avail rewards brands like ixigo bookmyshow ubereats cult fit', 'new zealand defeated india wickets fourth odi hamilton thursday win first match five match odi series india lost international match rohit sharma captaincy consecutive victories dating back march match witnessed india getting seventh lowest total odi cricket history', 'aegon life iterm insurance plan customers enjoy tax benefits premiums paid save taxes plan provides life cover age years also customers options insure critical illnesses disability accidental death benefit rider life cover age years', 'speaking sexual harassment allegations rajkumar hirani sonam kapoor said known hirani many years true metoo movement get derailed metoo movement always believe woman case need reserve judgment added hirani accused assistant worked sanju']\n"
     ]
    }
   ],
   "source": [
    "# 훈련 데이터 전체의 text 컬럼의 데이터를 전처리하는 코드를 작성\n",
    "# 전체 text 데이터에 대한 전처리 \n",
    "clean_text = []\n",
    "\n",
    "# 데이터프레임 data의 text 컬럼에 대해 전처리 실행\n",
    "for text in data['text']:\n",
    "    clean_text.append(preprocess_sentence(text))    \n",
    "\n",
    "# 전처리 후 출력\n",
    "print(\"text 전처리 후 결과: \", clean_text[:5])"
   ]
  },
  {
   "cell_type": "code",
   "execution_count": 128,
   "id": "03d8ddb5",
   "metadata": {},
   "outputs": [
    {
     "name": "stdout",
     "output_type": "stream",
     "text": [
      "headlines 전처리 후 결과:  ['upgrad learner switches to career in ml al with salary hike', 'new zealand end rohit sharma led india match winning streak', 'aegon life iterm insurance plan helps customers save tax', 'rahat fateh ali khan denies getting notice for smuggling currency', 'india get all out for their lowest odi total in new zealand']\n"
     ]
    }
   ],
   "source": [
    "# 전체 headlines 데이터에 대한 전처리\n",
    "clean_headlines = []\n",
    "\n",
    "# 데이터프레임 data의 headlines 컬럼에 대해 전처리 실행\n",
    "for text in data['headlines']:\n",
    "    clean_headlines.append(preprocess_sentence(text, False))   \n",
    "\n",
    "print(\"headlines 전처리 후 결과: \", clean_headlines[:5])"
   ]
  },
  {
   "cell_type": "code",
   "execution_count": 109,
   "id": "6ecaf257",
   "metadata": {},
   "outputs": [
    {
     "name": "stdout",
     "output_type": "stream",
     "text": [
      "=3\n"
     ]
    }
   ],
   "source": [
    "import numpy as np\n",
    "\n",
    "data['text'] = pd.Series(clean_text)   # Series로 변환 후 저장\n",
    "data['headlines'] = pd.Series(clean_headlines)\n",
    "\n",
    "# 빈 값을 Null 값으로 변환\n",
    "data['text'].replace('', np.nan, inplace=True)  # Text 컬럼에 대해 빈 값을 NaN으로 변환\n",
    "data['headlines'].replace('', np.nan, inplace=True)  # Summary 컬럼에 대해 빈 값을 NaN으로 변환\n",
    "\n",
    "print('=3')"
   ]
  },
  {
   "cell_type": "code",
   "execution_count": 110,
   "id": "e930e3cb",
   "metadata": {},
   "outputs": [
    {
     "data": {
      "text/plain": [
       "text         41\n",
       "headlines    41\n",
       "dtype: int64"
      ]
     },
     "execution_count": 110,
     "metadata": {},
     "output_type": "execute_result"
    }
   ],
   "source": [
    "# Null 값이 생겼는지 해볼게요.\n",
    "\n",
    "data.isnull().sum()"
   ]
  },
  {
   "cell_type": "code",
   "execution_count": 111,
   "id": "241e3e38",
   "metadata": {},
   "outputs": [
    {
     "data": {
      "text/plain": [
       "41"
      ]
     },
     "execution_count": 111,
     "metadata": {},
     "output_type": "execute_result"
    }
   ],
   "source": [
    "data['text'].isnull().sum()"
   ]
  },
  {
   "cell_type": "code",
   "execution_count": 112,
   "id": "484ba780",
   "metadata": {},
   "outputs": [
    {
     "data": {
      "text/plain": [
       "41"
      ]
     },
     "execution_count": 112,
     "metadata": {},
     "output_type": "execute_result"
    }
   ],
   "source": [
    "data['headlines'].isnull().sum()"
   ]
  },
  {
   "cell_type": "code",
   "execution_count": 113,
   "id": "4c7811a5",
   "metadata": {},
   "outputs": [
    {
     "name": "stdout",
     "output_type": "stream",
     "text": [
      "전체 샘플수 : 98319\n"
     ]
    }
   ],
   "source": [
    "# 전체 Null 값을 확인 및 제거\n",
    "data.dropna(axis=0, inplace=True)  # Null 값이 포함된 행 제거\n",
    "print('전체 샘플수 :', (len(data)))"
   ]
  },
  {
   "cell_type": "code",
   "execution_count": 114,
   "id": "fe6ac269",
   "metadata": {},
   "outputs": [
    {
     "name": "stdout",
     "output_type": "stream",
     "text": [
      "text         98281\n",
      "headlines    98127\n",
      "dtype: int64\n"
     ]
    }
   ],
   "source": [
    "print(data.nunique())"
   ]
  },
  {
   "cell_type": "code",
   "execution_count": 115,
   "id": "bd011a2b",
   "metadata": {},
   "outputs": [
    {
     "data": {
      "text/plain": [
       "text         0\n",
       "headlines    0\n",
       "dtype: int64"
      ]
     },
     "execution_count": 115,
     "metadata": {},
     "output_type": "execute_result"
    }
   ],
   "source": [
    "data.isnull().sum()"
   ]
  },
  {
   "cell_type": "markdown",
   "id": "ca1b4032",
   "metadata": {},
   "source": [
    "### (2) 훈련데이터와 테스트데이터 나누기"
   ]
  },
  {
   "cell_type": "markdown",
   "id": "f93d03cd",
   "metadata": {},
   "source": [
    "* 학습을 진행하기 위해서는 학습에 사용할 데이터의 크기를 결정하고, 문장의 시작과 끝을 표시"
   ]
  },
  {
   "cell_type": "markdown",
   "id": "ba807d2b",
   "metadata": {},
   "source": [
    "### 샘플의 최대 길이 정하기"
   ]
  },
  {
   "cell_type": "markdown",
   "id": "6fe62809",
   "metadata": {},
   "source": [
    "* Text와 Summary의 최소, 최대, 평균 길이를 구하고 또한 길이 분포를 시각화"
   ]
  },
  {
   "cell_type": "code",
   "execution_count": 116,
   "id": "0b98c55c",
   "metadata": {},
   "outputs": [
    {
     "name": "stdout",
     "output_type": "stream",
     "text": [
      "텍스트의 최소 길이 : 1\n",
      "텍스트의 최대 길이 : 60\n",
      "텍스트의 평균 길이 : 35.0997670846937\n",
      "요약-헤드라인의 최소 길이 : 1\n",
      "요약-헤드라인의 최대 길이 : 16\n",
      "요약-헤드라인의 평균 길이 : 9.29977928986259\n"
     ]
    },
    {
     "data": {
      "image/png": "[encoded data removed]",
      "text/plain": [
       "<Figure size 432x288 with 2 Axes>"
      ]
     },
     "metadata": {
      "needs_background": "light"
     },
     "output_type": "display_data"
    },
    {
     "data": {
      "image/png": "[encoded data removed]",
      "text/plain": [
       "<Figure size 432x288 with 1 Axes>"
      ]
     },
     "metadata": {
      "needs_background": "light"
     },
     "output_type": "display_data"
    },
    {
     "data": {
      "image/png": "[encoded data removed]",
      "text/plain": [
       "<Figure size 432x288 with 1 Axes>"
      ]
     },
     "metadata": {
      "needs_background": "light"
     },
     "output_type": "display_data"
    }
   ],
   "source": [
    "# 길이 분포 출력\n",
    "import matplotlib.pyplot as plt\n",
    "\n",
    "text_len = [len(s.split()) for s in data['text']]\n",
    "headlines_len = [len(s.split()) for s in data['headlines']]\n",
    "\n",
    "print('텍스트의 최소 길이 : {}'.format(np.min(text_len)))\n",
    "print('텍스트의 최대 길이 : {}'.format(np.max(text_len)))\n",
    "print('텍스트의 평균 길이 : {}'.format(np.mean(text_len)))\n",
    "print('요약-헤드라인의 최소 길이 : {}'.format(np.min(headlines_len)))\n",
    "print('요약-헤드라인의 최대 길이 : {}'.format(np.max(headlines_len)))\n",
    "print('요약-헤드라인의 평균 길이 : {}'.format(np.mean(headlines_len)))\n",
    "\n",
    "#실제 텍스트와 요약-헤드라인의 길이 분포\n",
    "plt.subplot(1,2,1)  #Text\n",
    "plt.boxplot(text_len)\n",
    "plt.title('text')\n",
    "plt.subplot(1,2,2)  #Summary\n",
    "plt.boxplot(headlines_len)\n",
    "plt.title('headlines')\n",
    "plt.tight_layout()\n",
    "plt.show()\n",
    "\n",
    "#실제 텍스트 샘플 길이별 개수\n",
    "plt.title('text')\n",
    "plt.hist(text_len, bins = 40)\n",
    "plt.xlabel('length of samples')\n",
    "plt.ylabel('number of samples')\n",
    "plt.show()\n",
    "\n",
    "#요약본 샘플 길이별 개수\n",
    "plt.title('headlines')\n",
    "plt.hist(headlines_len, bins = 40)\n",
    "plt.xlabel('length of samples')\n",
    "plt.ylabel('number of samples')\n",
    "plt.show()"
   ]
  },
  {
   "cell_type": "code",
   "execution_count": 117,
   "id": "52052823",
   "metadata": {},
   "outputs": [
    {
     "name": "stdout",
     "output_type": "stream",
     "text": [
      "=3\n"
     ]
    }
   ],
   "source": [
    "# Text의 최대 길이와 Summary의 적절한 최대 길이를 임의로 정하기\n",
    "\n",
    "text_max_len = 40\n",
    "headlines_max_len = 12\n",
    "print('=3')"
   ]
  },
  {
   "cell_type": "code",
   "execution_count": 118,
   "id": "5b6ebfb2",
   "metadata": {},
   "outputs": [
    {
     "name": "stdout",
     "output_type": "stream",
     "text": [
      "=3\n"
     ]
    }
   ],
   "source": [
    "# 훈련 데이터와 샘플의 길이를 입력하면, 데이터의 몇 %가 해당하는지 계산하는 함수 만들기\n",
    "\n",
    "def below_threshold_len(max_len, nested_list):\n",
    "  cnt = 0\n",
    "  for s in nested_list:\n",
    "    if(len(s.split()) <= max_len):\n",
    "        cnt = cnt + 1\n",
    "  print('전체 샘플 중 길이가 %s 이하인 샘플의 비율: %s'%(max_len, (cnt / len(nested_list))))\n",
    "\n",
    "print('=3')"
   ]
  },
  {
   "cell_type": "code",
   "execution_count": 119,
   "id": "b3110643",
   "metadata": {},
   "outputs": [
    {
     "name": "stdout",
     "output_type": "stream",
     "text": [
      "전체 샘플 중 길이가 40 이하인 샘플의 비율: 0.9238702590547097\n",
      "전체 샘플 중 길이가 12 이하인 샘플의 비율: 0.988038934488756\n"
     ]
    }
   ],
   "source": [
    "# text와 headlines에 적용해 우리가 결정한 임의의 길이가 몇%의 샘플까지 포함하는지 확인하기\n",
    "\n",
    "below_threshold_len(text_max_len, data['text'])\n",
    "below_threshold_len(headlines_max_len, data['headlines'])"
   ]
  },
  {
   "cell_type": "code",
   "execution_count": 120,
   "id": "bcfe3ca1",
   "metadata": {},
   "outputs": [
    {
     "name": "stdout",
     "output_type": "stream",
     "text": [
      "전체 샘플수 : 89738\n"
     ]
    }
   ],
   "source": [
    "# text와 headlines 컬럼에서 max_len 초과 샘플을 제외\n",
    "data = data[data['text'].apply(lambda x: len(x.split()) <= text_max_len)]\n",
    "data = data[data['headlines'].apply(lambda x: len(x.split()) <= headlines_max_len)]\n",
    "\n",
    "print('전체 샘플수 :', (len(data)))"
   ]
  },
  {
   "cell_type": "markdown",
   "id": "6e9c09c1",
   "metadata": {},
   "source": [
    "### 시작 토큰과 종료 토큰 추가하기"
   ]
  },
  {
   "cell_type": "markdown",
   "id": "1e33ed65",
   "metadata": {},
   "source": [
    "* 디코더는 시작 토큰을 입력받아 문장을 생성하기 시작\n",
    "* 종료 토큰을 예측한 순간에 문장 생성을 멈춤\n",
    "* 디코더의 입력과 레이블에 시작 토큰과 종료 토큰을 추가할 필요가 있어요\n",
    "* 시작 토큰 : sostoken, 종료 토큰: eostoken,  앞, 뒤로 추가\n",
    "  - 시작 토큰이 맨 앞에 있는 문장의 이름 : decoder_input\n",
    "  - 디코더의 출력 또는 레이블에 해당되면서 종료 토큰이 맨 뒤에 붙는 문장의 이름 : decoder_target"
   ]
  },
  {
   "cell_type": "code",
   "execution_count": 121,
   "id": "cf9471f3",
   "metadata": {},
   "outputs": [
    {
     "data": {
      "text/html": [
       "<div>\n",
       "<style scoped>\n",
       "    .dataframe tbody tr th:only-of-type {\n",
       "        vertical-align: middle;\n",
       "    }\n",
       "\n",
       "    .dataframe tbody tr th {\n",
       "        vertical-align: top;\n",
       "    }\n",
       "\n",
       "    .dataframe thead th {\n",
       "        text-align: right;\n",
       "    }\n",
       "</style>\n",
       "<table border=\"1\" class=\"dataframe\">\n",
       "  <thead>\n",
       "    <tr style=\"text-align: right;\">\n",
       "      <th></th>\n",
       "      <th>text</th>\n",
       "      <th>headlines</th>\n",
       "      <th>decoder_input</th>\n",
       "      <th>decoder_target</th>\n",
       "    </tr>\n",
       "  </thead>\n",
       "  <tbody>\n",
       "    <tr>\n",
       "      <th>0</th>\n",
       "      <td>saurav kant alumnus upgrad iiit pg program mac...</td>\n",
       "      <td>upgrad learner switches to career in ml al wit...</td>\n",
       "      <td>sostoken upgrad learner switches to career in ...</td>\n",
       "      <td>upgrad learner switches to career in ml al wit...</td>\n",
       "    </tr>\n",
       "    <tr>\n",
       "      <th>2</th>\n",
       "      <td>new zealand defeated india wickets fourth odi ...</td>\n",
       "      <td>new zealand end rohit sharma led india match w...</td>\n",
       "      <td>sostoken new zealand end rohit sharma led indi...</td>\n",
       "      <td>new zealand end rohit sharma led india match w...</td>\n",
       "    </tr>\n",
       "    <tr>\n",
       "      <th>3</th>\n",
       "      <td>aegon life iterm insurance plan customers enjo...</td>\n",
       "      <td>aegon life iterm insurance plan helps customer...</td>\n",
       "      <td>sostoken aegon life iterm insurance plan helps...</td>\n",
       "      <td>aegon life iterm insurance plan helps customer...</td>\n",
       "    </tr>\n",
       "    <tr>\n",
       "      <th>5</th>\n",
       "      <td>pakistani singer rahat fateh ali khan denied r...</td>\n",
       "      <td>rahat fateh ali khan denies getting notice for...</td>\n",
       "      <td>sostoken rahat fateh ali khan denies getting n...</td>\n",
       "      <td>rahat fateh ali khan denies getting notice for...</td>\n",
       "    </tr>\n",
       "    <tr>\n",
       "      <th>6</th>\n",
       "      <td>india recorded lowest odi total new zealand ge...</td>\n",
       "      <td>india get all out for their lowest odi total i...</td>\n",
       "      <td>sostoken india get all out for their lowest od...</td>\n",
       "      <td>india get all out for their lowest odi total i...</td>\n",
       "    </tr>\n",
       "  </tbody>\n",
       "</table>\n",
       "</div>"
      ],
      "text/plain": [
       "                                                text  \\\n",
       "0  saurav kant alumnus upgrad iiit pg program mac...   \n",
       "2  new zealand defeated india wickets fourth odi ...   \n",
       "3  aegon life iterm insurance plan customers enjo...   \n",
       "5  pakistani singer rahat fateh ali khan denied r...   \n",
       "6  india recorded lowest odi total new zealand ge...   \n",
       "\n",
       "                                           headlines  \\\n",
       "0  upgrad learner switches to career in ml al wit...   \n",
       "2  new zealand end rohit sharma led india match w...   \n",
       "3  aegon life iterm insurance plan helps customer...   \n",
       "5  rahat fateh ali khan denies getting notice for...   \n",
       "6  india get all out for their lowest odi total i...   \n",
       "\n",
       "                                       decoder_input  \\\n",
       "0  sostoken upgrad learner switches to career in ...   \n",
       "2  sostoken new zealand end rohit sharma led indi...   \n",
       "3  sostoken aegon life iterm insurance plan helps...   \n",
       "5  sostoken rahat fateh ali khan denies getting n...   \n",
       "6  sostoken india get all out for their lowest od...   \n",
       "\n",
       "                                      decoder_target  \n",
       "0  upgrad learner switches to career in ml al wit...  \n",
       "2  new zealand end rohit sharma led india match w...  \n",
       "3  aegon life iterm insurance plan helps customer...  \n",
       "5  rahat fateh ali khan denies getting notice for...  \n",
       "6  india get all out for their lowest odi total i...  "
      ]
     },
     "execution_count": 121,
     "metadata": {},
     "output_type": "execute_result"
    }
   ],
   "source": [
    "data['decoder_input'] = data['headlines'].apply(lambda x : 'sostoken '+ x)\n",
    "data['decoder_target'] = data['headlines'].apply(lambda x : x + ' eostoken')\n",
    "data.head()"
   ]
  },
  {
   "cell_type": "code",
   "execution_count": 122,
   "id": "6c02bafa",
   "metadata": {},
   "outputs": [
    {
     "name": "stdout",
     "output_type": "stream",
     "text": [
      "=3\n"
     ]
    }
   ],
   "source": [
    "encoder_input = np.array(data['text']) # 인코더의 입력\n",
    "decoder_input = np.array(data['decoder_input']) # 디코더의 입력\n",
    "decoder_target = np.array(data['decoder_target']) # 디코더의 레이블\n",
    "\n",
    "print('=3')"
   ]
  },
  {
   "cell_type": "markdown",
   "id": "995a22b1",
   "metadata": {},
   "source": [
    "* 훈련 데이터와 테스트 데이터를 분리(직접코딩, 분리 패키지를 사용)"
   ]
  },
  {
   "cell_type": "code",
   "execution_count": 123,
   "id": "de6cdca0",
   "metadata": {},
   "outputs": [
    {
     "name": "stdout",
     "output_type": "stream",
     "text": [
      "[19414 42849 87892 ...   470 55095 35677]\n"
     ]
    }
   ],
   "source": [
    "# 직접코딩, encoder_input과 크기와 형태가 같은 순서가 섞인 정수 시퀀스 생성\n",
    "indices = np.arange(encoder_input.shape[0])\n",
    "np.random.shuffle(indices)\n",
    "print(indices)"
   ]
  },
  {
   "cell_type": "code",
   "execution_count": 124,
   "id": "da8a6e7a",
   "metadata": {},
   "outputs": [
    {
     "name": "stdout",
     "output_type": "stream",
     "text": [
      "=3\n"
     ]
    }
   ],
   "source": [
    "# 정수 시퀀스를 이용해 다시 데이터의 샘플 순서를 정의하여 섞어주기\n",
    "\n",
    "encoder_input = encoder_input[indices]\n",
    "decoder_input = decoder_input[indices]\n",
    "decoder_target = decoder_target[indices]\n",
    "print('=3')"
   ]
  },
  {
   "cell_type": "code",
   "execution_count": 125,
   "id": "4b55d08d",
   "metadata": {},
   "outputs": [
    {
     "name": "stdout",
     "output_type": "stream",
     "text": [
      "테스트 데이터의 수 : 17947\n"
     ]
    }
   ],
   "source": [
    "#  8:2의 비율로 훈련 데이터와 테스트 데이터로 분리\n",
    "n_of_val = int(len(encoder_input)*0.2)  #검증데이터\n",
    "print('테스트 데이터의 수 :', n_of_val)"
   ]
  },
  {
   "cell_type": "code",
   "execution_count": 126,
   "id": "3e03388d",
   "metadata": {},
   "outputs": [
    {
     "name": "stdout",
     "output_type": "stream",
     "text": [
      "훈련 데이터의 개수 : 71791\n",
      "훈련 레이블의 개수 : 71791\n",
      "테스트 데이터의 개수 : 17947\n",
      "테스트 레이블의 개수 : 17947\n"
     ]
    }
   ],
   "source": [
    "#:표시의 위치에 주의\n",
    "encoder_input_train = encoder_input[:-n_of_val]  #훈련데이타 (처음~80%까지)\n",
    "decoder_input_train = decoder_input[:-n_of_val]  #훈련 디코더 입력start (처음~80%까지)\n",
    "decoder_target_train = decoder_target[:-n_of_val] #훈련 디코더 label end  (처음~80%까지)\n",
    "\n",
    "encoder_input_test = encoder_input[-n_of_val:]   #테스트데이타 (20%~끝까지)\n",
    "decoder_input_test = decoder_input[-n_of_val:]   #테스트 디코더 입력 start  (20%~끝까지)\n",
    "decoder_target_test = decoder_target[-n_of_val:] #테스트 디코더 label end (20%~끝까지)\n",
    "\n",
    "print('훈련 데이터의 개수 :', len(encoder_input_train))\n",
    "print('훈련 레이블의 개수 :', len(decoder_input_train))\n",
    "print('테스트 데이터의 개수 :', len(encoder_input_test))\n",
    "print('테스트 레이블의 개수 :', len(decoder_input_test))"
   ]
  },
  {
   "cell_type": "markdown",
   "id": "b1aea5ac",
   "metadata": {},
   "source": [
    "### (3) 정수 인코딩"
   ]
  },
  {
   "cell_type": "markdown",
   "id": "a5b704dd",
   "metadata": {},
   "source": [
    "### 단어 집합(vocabulary) 만들기 및 정수 인코딩"
   ]
  },
  {
   "cell_type": "markdown",
   "id": "f4efdbc4",
   "metadata": {},
   "source": [
    "* 텍스트를 숫자로 처리할 수 있도록 훈련 데이터와 테스트 데이터의 단어들을 모두 정수로 바꾸어 주어야 해요\n",
    "* 고유한 정수를 맵핑하는 작업이 필요, 이 과정을 단어 집합(vocabulary) 을 만든다고 표현\n",
    "* 훈련 데이터에 대해서 단어 집합을 만들기, encoder_input_train에 대해서 단어 집합을 만들게요\n",
    "* Keras의 토크나이저를 사용하면, 입력된 훈련 데이터로부터 단어 집합을 만들 수 있어요"
   ]
  },
  {
   "cell_type": "code",
   "execution_count": 127,
   "id": "a7ffc46b",
   "metadata": {},
   "outputs": [
    {
     "name": "stdout",
     "output_type": "stream",
     "text": [
      "=3\n"
     ]
    }
   ],
   "source": [
    "src_tokenizer = Tokenizer() # 토크나이저 정의\n",
    "src_tokenizer.fit_on_texts(encoder_input_train) # 입력된 데이터로부터 단어 집합 생성\n",
    "print('=3')"
   ]
  },
  {
   "cell_type": "markdown",
   "id": "bfa6ffa3",
   "metadata": {},
   "source": [
    "* 현재 생성된 단어 집합 : src_tokenizer.word_index에 저장\n",
    "* 빈도수가 낮은 단어들은 훈련 데이터에서 제외하고 진행 \n",
    "* 등장 빈도수가 7회 미만인 단어들이 이 데이터에서 얼만큼의 비중을 차지하는지 확인\n",
    "* 단어와 각 단어의 등장 빈도수가 저장 : src_tokenizer.word_counts.items()"
   ]
  },
  {
   "cell_type": "markdown",
   "id": "63d40cb6",
   "metadata": {},
   "source": [
    "### encoder_input_train : 훈련데이타 처리"
   ]
  },
  {
   "cell_type": "code",
   "execution_count": 129,
   "id": "1d80c65c",
   "metadata": {},
   "outputs": [
    {
     "name": "stdout",
     "output_type": "stream",
     "text": [
      "rare_freq: 90909\n",
      "total_freq: 2477921\n",
      "단어 집합(vocabulary)의 크기 : 65560\n",
      "등장 빈도가 6번 이하인 희귀 단어의 수: 44659\n",
      "단어 집합에서 희귀 단어를 제외시킬 경우의 단어 집합의 크기 20901\n",
      "단어 집합에서 희귀 단어의 비율: 68.11928004881025\n",
      "전체 등장 빈도에서 희귀 단어 등장 빈도 비율: 3.6687610299117686\n"
     ]
    }
   ],
   "source": [
    "# 통계적인 정보 (encoder_input_train : 훈련데이타)\n",
    "\n",
    "threshold = 7\n",
    "total_cnt = len(src_tokenizer.word_index) # 단어의 수\n",
    "rare_cnt = 0 # 등장 빈도수가 threshold보다 작은 단어의 개수를 카운트\n",
    "total_freq = 0 # 훈련 데이터의 전체 단어 빈도수 총 합\n",
    "rare_freq = 0 # 등장 빈도수가 threshold보다 작은 단어의 등장 빈도수의 총 합\n",
    "\n",
    "# 단어와 빈도수의 쌍(pair)을 key와 value로 받는다.\n",
    "for key, value in src_tokenizer.word_counts.items():\n",
    "    total_freq = total_freq + value\n",
    "\n",
    "    # 단어의 등장 빈도수가 threshold보다 작으면\n",
    "    if(value < threshold):\n",
    "        rare_cnt = rare_cnt + 1\n",
    "        rare_freq = rare_freq + value\n",
    "\n",
    "print('rare_freq:',rare_freq)\n",
    "print('total_freq:',total_freq)\n",
    "    \n",
    "print('단어 집합(vocabulary)의 크기 :', total_cnt)\n",
    "print('등장 빈도가 %s번 이하인 희귀 단어의 수: %s'%(threshold - 1, rare_cnt))\n",
    "print('단어 집합에서 희귀 단어를 제외시킬 경우의 단어 집합의 크기 %s'%(total_cnt - rare_cnt))\n",
    "print(\"단어 집합에서 희귀 단어의 비율:\", (rare_cnt / total_cnt)*100)\n",
    "print(\"전체 등장 빈도에서 희귀 단어 등장 빈도 비율:\", (rare_freq / total_freq)*100)"
   ]
  },
  {
   "cell_type": "code",
   "execution_count": 130,
   "id": "e4cfaf14",
   "metadata": {},
   "outputs": [
    {
     "name": "stdout",
     "output_type": "stream",
     "text": [
      "=3\n"
     ]
    }
   ],
   "source": [
    "# 6회 이하인 단어들은 정수 인코딩 과정에서 빼고, 훈련 데이터에서 제거\n",
    "# 제외한 단어 집합의 크기를 2만여 개로 계산\n",
    "# 토크나이저를 정의할 때 num_words의 값을 정해주면, 단어 집합의 크기를 제한할 수 있음\n",
    "\n",
    "src_vocab = 20000\n",
    "src_tokenizer = Tokenizer(num_words=src_vocab) # 단어 집합의 크기를 20,000으로 제한\n",
    "src_tokenizer.fit_on_texts(encoder_input_train) # 단어 집합 재생성\n",
    "\n",
    "print('=3')"
   ]
  },
  {
   "cell_type": "code",
   "execution_count": 131,
   "id": "83e08352",
   "metadata": {},
   "outputs": [
    {
     "name": "stdout",
     "output_type": "stream",
     "text": [
      "[[126, 694, 25, 9219, 711, 65, 4004, 4338, 148, 106, 497, 806, 869, 1550, 869, 1550, 738, 369, 15725, 207, 222, 126, 93, 5032, 475, 1550, 7168, 6647, 2894, 906, 6, 1802, 25, 9219, 711], [164, 18, 62, 1454, 353, 484, 4891, 4801, 262, 6944, 57, 10281, 901, 3865, 1043, 20, 4801, 262, 6317, 1615, 1724, 2, 13, 361, 353, 484, 269, 1125, 355, 262, 1509, 262, 3008, 300], [1866, 8, 455, 1444, 1227, 1640, 992, 3157, 1837, 18343, 1478, 6165, 4339, 10021, 15726, 3157, 6, 302, 5033, 695, 1853, 1412, 708, 3924, 4121, 95, 12109, 1317, 3157, 3336, 2881]]\n"
     ]
    }
   ],
   "source": [
    "# texts_to_sequences() : 생성된 단어 집합에 기반하여 입력으로 주어진 텍스트 데이터의 단어들을 모두 정수로 변환하는 정수 인코딩을 수행\n",
    "# 현재 단어 집합의 크기를 20,000으로 제한\n",
    "# 이제 20,000이 넘는 숫자들은 정수 인코딩 후에는 데이터에 존재하지 않아요\n",
    "\n",
    "# 텍스트 시퀀스를 정수 시퀀스로 변환\n",
    "encoder_input_train = src_tokenizer.texts_to_sequences(encoder_input_train) \n",
    "encoder_input_test = src_tokenizer.texts_to_sequences(encoder_input_test)\n",
    "\n",
    "# 잘 진행되었는지 샘플 출력\n",
    "print(encoder_input_train[:3])"
   ]
  },
  {
   "cell_type": "markdown",
   "id": "629da246",
   "metadata": {},
   "source": [
    "### Summary 데이터에 대해서도 동일한 작업을 수행"
   ]
  },
  {
   "cell_type": "code",
   "execution_count": 132,
   "id": "89278659",
   "metadata": {},
   "outputs": [
    {
     "name": "stdout",
     "output_type": "stream",
     "text": [
      "=3\n"
     ]
    }
   ],
   "source": [
    "tar_tokenizer = Tokenizer()\n",
    "tar_tokenizer.fit_on_texts(decoder_input_train)\n",
    "print('=3')"
   ]
  },
  {
   "cell_type": "markdown",
   "id": "81023365",
   "metadata": {},
   "source": [
    "* 각 단어에 고유한 정수가 부여 : tar_tokenizer.word_index에 저장\n",
    "* 단어와 각 단어의 등장 빈도수가 저장 : tar_tokenizer.word_counts.items() 저장\n",
    "* 통계적인 정보, 등장 빈도수가 6회 미만인 단어들이 얼만큼의 비중을 차지하는지 확인"
   ]
  },
  {
   "cell_type": "code",
   "execution_count": 134,
   "id": "fe26cc1e",
   "metadata": {},
   "outputs": [
    {
     "name": "stdout",
     "output_type": "stream",
     "text": [
      "rare_freq: 36061\n",
      "total_freq: 735698\n",
      "단어 집합(vocabulary)의 크기 : 28766\n",
      "등장 빈도가 5번 이하인 희귀 단어의 수: 18821\n",
      "단어 집합에서 희귀 단어를 제외시킬 경우의 단어 집합의 크기 9945\n",
      "단어 집합에서 희귀 단어의 비율: 65.42793575749148\n",
      "전체 등장 빈도에서 희귀 단어 등장 빈도 비율: 4.9016036471486935\n"
     ]
    }
   ],
   "source": [
    "threshold = 6\n",
    "total_cnt = len(tar_tokenizer.word_index) # 단어의 수\n",
    "rare_cnt = 0 # 등장 빈도수가 threshold보다 작은 단어의 개수를 카운트\n",
    "total_freq = 0 # 훈련 데이터의 전체 단어 빈도수 총 합\n",
    "rare_freq = 0 # 등장 빈도수가 threshold보다 작은 단어의 등장 빈도수의 총 합\n",
    "\n",
    "# 단어와 빈도수의 쌍(pair)을 key와 value로 받는다.\n",
    "for key, value in tar_tokenizer.word_counts.items():\n",
    "    total_freq = total_freq + value\n",
    "\n",
    "    # 단어의 등장 빈도수가 threshold보다 작으면\n",
    "    if(value < threshold):\n",
    "        rare_cnt = rare_cnt + 1\n",
    "        rare_freq = rare_freq + value\n",
    "\n",
    "print('rare_freq:', rare_freq) \n",
    "print('total_freq:', total_freq)    \n",
    "     \n",
    "print('단어 집합(vocabulary)의 크기 :', total_cnt)\n",
    "print('등장 빈도가 %s번 이하인 희귀 단어의 수: %s'%(threshold - 1, rare_cnt))\n",
    "print('단어 집합에서 희귀 단어를 제외시킬 경우의 단어 집합의 크기 %s'%(total_cnt - rare_cnt))\n",
    "print(\"단어 집합에서 희귀 단어의 비율:\", (rare_cnt / total_cnt)*100)\n",
    "print(\"전체 등장 빈도에서 희귀 단어 등장 빈도 비율:\", (rare_freq / total_freq)*100)"
   ]
  },
  {
   "cell_type": "markdown",
   "id": "95b19185",
   "metadata": {},
   "source": [
    "* 5회 이하인 단어들은 단어 집합에서 약 65%를 차지\n",
    "* 훈련 데이터에서 등장 빈도로 차지하는 비중은 상대적으로 매우 적은 수치인 4.9%\n",
    "* 이 단어들은 모두 제거\n",
    "* 어림잡아 9900을 단어 집합의 크기로 제한"
   ]
  },
  {
   "cell_type": "code",
   "execution_count": 135,
   "id": "93837e6f",
   "metadata": {},
   "outputs": [
    {
     "name": "stdout",
     "output_type": "stream",
     "text": [
      "input\n",
      "input  [[1, 157, 906, 1928, 3, 851, 205, 7241], [1, 62, 4709, 7, 67, 27, 2953, 1333, 815, 369, 360, 1647], [1, 2889, 23, 46, 3, 176, 1565, 93], [1, 350, 1501, 316, 459, 2699, 25, 16, 1255, 926], [1, 153, 283, 10, 7750, 4112, 32, 1869, 5815]]\n",
      "target\n",
      "decoder  [[157, 906, 1928, 3, 851, 205, 7241, 2], [62, 4709, 7, 67, 27, 2953, 1333, 815, 369, 360, 1647, 2], [2889, 23, 46, 3, 176, 1565, 93, 2], [350, 1501, 316, 459, 2699, 25, 16, 1255, 926, 2], [153, 283, 10, 7750, 4112, 32, 1869, 5815, 2]]\n"
     ]
    }
   ],
   "source": [
    "tar_vocab = 9900\n",
    "tar_tokenizer = Tokenizer(num_words=tar_vocab) \n",
    "tar_tokenizer.fit_on_texts(decoder_input_train)\n",
    "tar_tokenizer.fit_on_texts(decoder_target_train)\n",
    "\n",
    "# 텍스트 시퀀스를 정수 시퀀스로 변환\n",
    "decoder_input_train = tar_tokenizer.texts_to_sequences(decoder_input_train) \n",
    "decoder_target_train = tar_tokenizer.texts_to_sequences(decoder_target_train)\n",
    "decoder_input_test = tar_tokenizer.texts_to_sequences(decoder_input_test)\n",
    "decoder_target_test = tar_tokenizer.texts_to_sequences(decoder_target_test)\n",
    "\n",
    "# 잘 변환되었는지 확인\n",
    "print('input')\n",
    "print('input ',decoder_input_train[:5])\n",
    "print('target')\n",
    "print('decoder ',decoder_target_train[:5])"
   ]
  },
  {
   "cell_type": "markdown",
   "id": "998a1fa4",
   "metadata": {},
   "source": [
    "* 전체 데이터에서 빈도수가 낮은 단어가 삭제되었다는 것은 -> 빈도수가 낮은 단어만으로 구성되었던 샘플들은 이제 빈(empty) 샘플이 되었을 가능성이 있어요\n",
    "* 요약문(headlines)에서 길이가 0이 된 샘플들의 인덱스를 받아와볼게요\n",
    "* 주의할 점은 요약문인 decoder_input: sostoken, decoder_target : eostoken 이 추가된 상태로 단어 집합 제한에도 삭제되지 않아요\n",
    "* 요약문의 실제 길이는 1로 나올 거예요. 길이 0이 된 decoder_input에는 sostoken, decoder_target에는 eostoken만 남아 있을 테니까요, "
   ]
  },
  {
   "cell_type": "markdown",
   "id": "21ba9c90",
   "metadata": {},
   "source": [
    "* 훈련 데이터와 테스트 데이터에 대해서 요약문의 길이가 1인 경우의 인덱스를 각각 drop_train과 drop_test에 라는 변수에 저장\n",
    "* 이 샘플들은 모두 삭제"
   ]
  },
  {
   "cell_type": "code",
   "execution_count": 136,
   "id": "275e1082",
   "metadata": {},
   "outputs": [
    {
     "name": "stdout",
     "output_type": "stream",
     "text": [
      "삭제할 훈련 데이터의 개수 : 1\n",
      "삭제할 테스트 데이터의 개수 : 0\n",
      "훈련 데이터의 개수 : 71790\n",
      "훈련 레이블의 개수 : 71790\n",
      "테스트 데이터의 개수 : 17947\n",
      "테스트 레이블의 개수 : 17947\n"
     ]
    }
   ],
   "source": [
    "drop_train = [index for index, sentence in enumerate(decoder_input_train) if len(sentence) == 1] #요약문의 길이가 1인 경우 갯수\n",
    "drop_test = [index for index, sentence in enumerate(decoder_input_test) if len(sentence) == 1]\n",
    "\n",
    "print('삭제할 훈련 데이터의 개수 :', len(drop_train))\n",
    "print('삭제할 테스트 데이터의 개수 :', len(drop_test))\n",
    "\n",
    "encoder_input_train = [sentence for index, sentence in enumerate(encoder_input_train) if index not in drop_train]\n",
    "decoder_input_train = [sentence for index, sentence in enumerate(decoder_input_train) if index not in drop_train]\n",
    "decoder_target_train = [sentence for index, sentence in enumerate(decoder_target_train) if index not in drop_train]\n",
    "\n",
    "encoder_input_test = [sentence for index, sentence in enumerate(encoder_input_test) if index not in drop_test]\n",
    "decoder_input_test = [sentence for index, sentence in enumerate(decoder_input_test) if index not in drop_test]\n",
    "decoder_target_test = [sentence for index, sentence in enumerate(decoder_target_test) if index not in drop_test]\n",
    "\n",
    "print('훈련 데이터의 개수 :', len(encoder_input_train))\n",
    "print('훈련 레이블의 개수 :', len(decoder_input_train))\n",
    "print('테스트 데이터의 개수 :', len(encoder_input_test))\n",
    "print('테스트 레이블의 개수 :', len(decoder_input_test))"
   ]
  },
  {
   "cell_type": "markdown",
   "id": "4fecf4ee",
   "metadata": {},
   "source": [
    "### 패딩하기"
   ]
  },
  {
   "cell_type": "markdown",
   "id": "d5a7d922",
   "metadata": {},
   "source": [
    "* 서로 다른 길이의 샘플들을 병렬 처리하기 위해, 같은 길이로 맞춰주는 패딩 작업필요\n",
    "* 아까 정해두었던 최대 길이로 패딩\n",
    "* 최대 길이보다 짧은 데이터들은 뒤의 공간에 숫자 0을 넣어 최대 길이로 길이를 맞춘다."
   ]
  },
  {
   "cell_type": "code",
   "execution_count": 138,
   "id": "800beb14",
   "metadata": {},
   "outputs": [
    {
     "name": "stdout",
     "output_type": "stream",
     "text": [
      "=3\n"
     ]
    }
   ],
   "source": [
    "encoder_input_train = pad_sequences(encoder_input_train, maxlen=text_max_len, padding='post')\n",
    "encoder_input_test = pad_sequences(encoder_input_test, maxlen=text_max_len, padding='post')\n",
    "\n",
    "decoder_input_train = pad_sequences(decoder_input_train, maxlen=headlines_max_len, padding='post')\n",
    "decoder_target_train = pad_sequences(decoder_target_train, maxlen=headlines_max_len, padding='post')\n",
    "\n",
    "decoder_input_test = pad_sequences(decoder_input_test, maxlen=headlines_max_len, padding='post')\n",
    "decoder_target_test = pad_sequences(decoder_target_test, maxlen=headlines_max_len, padding='post')\n",
    "\n",
    "print('=3')"
   ]
  },
  {
   "cell_type": "markdown",
   "id": "5fad0b11",
   "metadata": {},
   "source": [
    "### ------ 전처리 과정 끝"
   ]
  },
  {
   "cell_type": "markdown",
   "id": "53e5c114",
   "metadata": {},
   "source": [
    "### 모델 설계하기"
   ]
  },
  {
   "cell_type": "markdown",
   "id": "1aaa3e39",
   "metadata": {},
   "source": [
    "### 함수형 API를 이용해서 인코더를 설계"
   ]
  },
  {
   "cell_type": "code",
   "execution_count": 139,
   "id": "ea50a1e9",
   "metadata": {},
   "outputs": [],
   "source": [
    "from tensorflow.keras.layers import Input, LSTM, Embedding, Dense, Concatenate, TimeDistributed\n",
    "from tensorflow.keras.models import Model\n",
    "from tensorflow.keras.callbacks import EarlyStopping, ModelCheckpoint\n",
    "\n",
    "\n",
    "# 인코더 설계 시작\n",
    "embedding_dim = 128\n",
    "hidden_size = 256\n",
    "\n",
    "# 인코더\n",
    "encoder_inputs = Input(shape=(text_max_len,))\n",
    "\n",
    "# 인코더의 임베딩 층\n",
    "enc_emb = Embedding(src_vocab, embedding_dim)(encoder_inputs)\n",
    "\n",
    "# 인코더의 LSTM 1\n",
    "encoder_lstm1 = LSTM(hidden_size, return_sequences=True, return_state=True ,dropout = 0.4)\n",
    "encoder_output1, state_h1, state_c1 = encoder_lstm1(enc_emb)\n",
    "\n",
    "# 인코더의 LSTM 2\n",
    "encoder_lstm2 = LSTM(hidden_size, return_sequences=True, return_state=True ,dropout = 0.4)\n",
    "encoder_output2, state_h2, state_c2 = encoder_lstm2(encoder_output1)\n",
    "\n",
    "# 인코더의 LSTM 3\n",
    "encoder_lstm3 = LSTM(hidden_size, return_sequences=True, return_state=True, dropout=0.4)\n",
    "encoder_output3, state_h3, state_c3 = encoder_lstm3(encoder_output2)"
   ]
  },
  {
   "cell_type": "markdown",
   "id": "c07a4890",
   "metadata": {},
   "source": [
    "* dropout : 레이어의 weight를 랜덤으로 생략하여 모델의 과적합(overfitting)을 해결해주는 방법\n",
    "* recurrent dropout :  dropout을 레이어가 아닌 time step마다 해주는 방식\n",
    "  - 즉 time step의 입력을 랜덤으로 생략해 주는 것\n",
    "  - 일반적인 dropout와 같이 regularization을 해주는 효과가 있고, 과적합을 방지할 수 있다\n",
    "* dropout과 recurrent dropout을 모두 사용한 것을 Variational Dropout"
   ]
  },
  {
   "cell_type": "markdown",
   "id": "1adfc27b",
   "metadata": {},
   "source": [
    "### 디코더를 설계"
   ]
  },
  {
   "cell_type": "code",
   "execution_count": 140,
   "id": "8e96a299",
   "metadata": {},
   "outputs": [],
   "source": [
    "# 디코더 설계\n",
    "decoder_inputs = Input(shape=(None,))\n",
    "\n",
    "# 디코더의 임베딩 층\n",
    "dec_emb_layer = Embedding(tar_vocab, embedding_dim)\n",
    "dec_emb = dec_emb_layer(decoder_inputs)\n",
    "\n",
    "# 디코더의 LSTM\n",
    "decoder_lstm = LSTM(hidden_size, return_sequences=True, return_state=True, dropout=0.4)\n",
    "decoder_outputs, _, _ = decoder_lstm(dec_emb, initial_state=[state_h3, state_c3]) #인코더의 마지막 LSTM 상태를 디코더에 전달하도록 수정"
   ]
  },
  {
   "cell_type": "markdown",
   "id": "f84d1a32",
   "metadata": {},
   "source": [
    "* LSTM의 입력을 정의할 때, initial_state의 인자값으로 인코더의 hidden state와 cell state의 값을 넣어줘야 해요"
   ]
  },
  {
   "cell_type": "markdown",
   "id": "f68cff12",
   "metadata": {},
   "source": [
    "### 디코더의 출력층을 설계"
   ]
  },
  {
   "cell_type": "code",
   "execution_count": 141,
   "id": "db657b5a",
   "metadata": {},
   "outputs": [
    {
     "name": "stdout",
     "output_type": "stream",
     "text": [
      "Model: \"model\"\n",
      "__________________________________________________________________________________________________\n",
      "Layer (type)                    Output Shape         Param #     Connected to                     \n",
      "==================================================================================================\n",
      "input_1 (InputLayer)            [(None, 40)]         0                                            \n",
      "__________________________________________________________________________________________________\n",
      "embedding (Embedding)           (None, 40, 128)      2560000     input_1[0][0]                    \n",
      "__________________________________________________________________________________________________\n",
      "lstm (LSTM)                     [(None, 40, 256), (N 394240      embedding[0][0]                  \n",
      "__________________________________________________________________________________________________\n",
      "input_2 (InputLayer)            [(None, None)]       0                                            \n",
      "__________________________________________________________________________________________________\n",
      "lstm_1 (LSTM)                   [(None, 40, 256), (N 525312      lstm[0][0]                       \n",
      "__________________________________________________________________________________________________\n",
      "embedding_1 (Embedding)         (None, None, 128)    1267200     input_2[0][0]                    \n",
      "__________________________________________________________________________________________________\n",
      "lstm_2 (LSTM)                   [(None, 40, 256), (N 525312      lstm_1[0][0]                     \n",
      "__________________________________________________________________________________________________\n",
      "lstm_3 (LSTM)                   [(None, None, 256),  394240      embedding_1[0][0]                \n",
      "                                                                 lstm_2[0][1]                     \n",
      "                                                                 lstm_2[0][2]                     \n",
      "__________________________________________________________________________________________________\n",
      "dense (Dense)                   (None, None, 9900)   2544300     lstm_3[0][0]                     \n",
      "==================================================================================================\n",
      "Total params: 8,210,604\n",
      "Trainable params: 8,210,604\n",
      "Non-trainable params: 0\n",
      "__________________________________________________________________________________________________\n"
     ]
    }
   ],
   "source": [
    "# 디코더의 출력층\n",
    "decoder_softmax_layer = Dense(tar_vocab, activation='softmax')\n",
    "decoder_softmax_outputs = decoder_softmax_layer(decoder_outputs) \n",
    "\n",
    "# 모델 정의\n",
    "model = Model([encoder_inputs, decoder_inputs], decoder_softmax_outputs)\n",
    "model.summary()"
   ]
  },
  {
   "cell_type": "markdown",
   "id": "b95b2597",
   "metadata": {},
   "source": [
    "* 디코더의 출력층은, Summary의 단어장인 tar_vocab의 수많은 선택지 중 하나의 단어를 선택하는 다중 클래스 분류 문제를 풀러야 한다.\n",
    "* Dense의 인자로 tar_vocab, 활성화 함수로 소프트맥스 함수 사용\n",
    "* 인코더의 hidden state와 cell state를 초기 state로 사용하는 가장 기본적인 seq2seq\n",
    "* 디코더의 출력층을 설계를 살짝 바꿔서 성능을 높일 수 있는 방법 : 어텐션 메커니즘"
   ]
  },
  {
   "cell_type": "markdown",
   "id": "67949b3d",
   "metadata": {},
   "source": [
    "### Step 3. 어텐션 메커니즘 사용하기 (추상적 요약)"
   ]
  },
  {
   "cell_type": "markdown",
   "id": "19e7d6b2",
   "metadata": {},
   "source": [
    "* 어텐션 메커니즘을 사용한 seq2seq를 사용하는 것이 더 나은 성능을 얻을 수 있어요\n",
    "* 어텐션 메커니즘을 사용한 seq2seq를 설계"
   ]
  },
  {
   "cell_type": "code",
   "execution_count": 143,
   "id": "407f66ec",
   "metadata": {},
   "outputs": [
    {
     "name": "stdout",
     "output_type": "stream",
     "text": [
      "Model: \"model_2\"\n",
      "__________________________________________________________________________________________________\n",
      "Layer (type)                    Output Shape         Param #     Connected to                     \n",
      "==================================================================================================\n",
      "input_1 (InputLayer)            [(None, 40)]         0                                            \n",
      "__________________________________________________________________________________________________\n",
      "embedding (Embedding)           (None, 40, 128)      2560000     input_1[0][0]                    \n",
      "__________________________________________________________________________________________________\n",
      "lstm (LSTM)                     [(None, 40, 256), (N 394240      embedding[0][0]                  \n",
      "__________________________________________________________________________________________________\n",
      "input_2 (InputLayer)            [(None, None)]       0                                            \n",
      "__________________________________________________________________________________________________\n",
      "lstm_1 (LSTM)                   [(None, 40, 256), (N 525312      lstm[0][0]                       \n",
      "__________________________________________________________________________________________________\n",
      "embedding_1 (Embedding)         (None, None, 128)    1267200     input_2[0][0]                    \n",
      "__________________________________________________________________________________________________\n",
      "lstm_2 (LSTM)                   [(None, 40, 256), (N 525312      lstm_1[0][0]                     \n",
      "__________________________________________________________________________________________________\n",
      "lstm_3 (LSTM)                   [(None, None, 256),  394240      embedding_1[0][0]                \n",
      "                                                                 lstm_2[0][1]                     \n",
      "                                                                 lstm_2[0][2]                     \n",
      "__________________________________________________________________________________________________\n",
      "attention_layer (AdditiveAttent (None, None, 256)    256         lstm_3[0][0]                     \n",
      "                                                                 lstm_2[0][0]                     \n",
      "__________________________________________________________________________________________________\n",
      "concat_layer (Concatenate)      (None, None, 512)    0           lstm_3[0][0]                     \n",
      "                                                                 attention_layer[0][0]            \n",
      "__________________________________________________________________________________________________\n",
      "dense_2 (Dense)                 (None, None, 9900)   5078700     concat_layer[0][0]               \n",
      "==================================================================================================\n",
      "Total params: 10,745,260\n",
      "Trainable params: 10,745,260\n",
      "Non-trainable params: 0\n",
      "__________________________________________________________________________________________________\n"
     ]
    }
   ],
   "source": [
    "from tensorflow.keras.layers import AdditiveAttention\n",
    "\n",
    "# 어텐션 층(어텐션 함수)\n",
    "attn_layer = AdditiveAttention(name='attention_layer')\n",
    "\n",
    "# 인코더와 디코더의 모든 time step의 hidden state를 어텐션 층에 전달하고 결과를 리턴\n",
    "#attn_out = attn_layer([decoder_outputs, encoder_outputs])\n",
    "attn_out = attn_layer([decoder_outputs, encoder_output3])\n",
    "\n",
    "\n",
    "# 어텐션의 결과와 디코더의 hidden state들을 연결\n",
    "decoder_concat_input = Concatenate(axis=-1, name='concat_layer')([decoder_outputs, attn_out])\n",
    "\n",
    "# 디코더의 출력층\n",
    "decoder_softmax_layer = Dense(tar_vocab, activation='softmax')\n",
    "decoder_softmax_outputs = decoder_softmax_layer(decoder_concat_input)\n",
    "\n",
    "# 모델 정의\n",
    "model = Model([encoder_inputs, decoder_inputs], decoder_softmax_outputs)\n",
    "model.summary()"
   ]
  },
  {
   "cell_type": "markdown",
   "id": "ab4aafda",
   "metadata": {},
   "source": [
    "* 인코더의 hidden state들과 디코더의 hidden state들을 어텐션 함수의 입력으로 사용하고, 어텐션 함수가 리턴한 값을 예측 시에 디코더의 hidden state와 함께 활용하는 형태로 작동"
   ]
  },
  {
   "cell_type": "markdown",
   "id": "6d1e7717",
   "metadata": {},
   "source": [
    "### 모델 훈련하기"
   ]
  },
  {
   "cell_type": "markdown",
   "id": "9d08b2f7",
   "metadata": {},
   "source": [
    "* 설계한 모델을 가지고 훈련을 진행"
   ]
  },
  {
   "cell_type": "code",
   "execution_count": 144,
   "id": "75e6ed52",
   "metadata": {},
   "outputs": [
    {
     "name": "stdout",
     "output_type": "stream",
     "text": [
      "Epoch 1/50\n",
      "281/281 [==============================] - 33s 93ms/step - loss: 5.6424 - val_loss: 5.2431\n",
      "Epoch 2/50\n",
      "281/281 [==============================] - 26s 91ms/step - loss: 5.0696 - val_loss: 4.8636\n",
      "Epoch 3/50\n",
      "281/281 [==============================] - 26s 93ms/step - loss: 4.7429 - val_loss: 4.5989\n",
      "Epoch 4/50\n",
      "281/281 [==============================] - 26s 92ms/step - loss: 4.4870 - val_loss: 4.4327\n",
      "Epoch 5/50\n",
      "281/281 [==============================] - 26s 92ms/step - loss: 4.2871 - val_loss: 4.2932\n",
      "Epoch 6/50\n",
      "281/281 [==============================] - 26s 92ms/step - loss: 4.1185 - val_loss: 4.1791\n",
      "Epoch 7/50\n",
      "281/281 [==============================] - 26s 92ms/step - loss: 3.9719 - val_loss: 4.0973\n",
      "Epoch 8/50\n",
      "281/281 [==============================] - 26s 92ms/step - loss: 3.8425 - val_loss: 4.0170\n",
      "Epoch 9/50\n",
      "281/281 [==============================] - 26s 92ms/step - loss: 3.7257 - val_loss: 3.9588\n",
      "Epoch 10/50\n",
      "281/281 [==============================] - 26s 92ms/step - loss: 3.6237 - val_loss: 3.9154\n",
      "Epoch 11/50\n",
      "281/281 [==============================] - 26s 92ms/step - loss: 3.5289 - val_loss: 3.8794\n",
      "Epoch 12/50\n",
      "281/281 [==============================] - 26s 92ms/step - loss: 3.4410 - val_loss: 3.8380\n",
      "Epoch 13/50\n",
      "281/281 [==============================] - 26s 92ms/step - loss: 3.3622 - val_loss: 3.8111\n",
      "Epoch 14/50\n",
      "281/281 [==============================] - 26s 92ms/step - loss: 3.2915 - val_loss: 3.7896\n",
      "Epoch 15/50\n",
      "281/281 [==============================] - 26s 92ms/step - loss: 3.2263 - val_loss: 3.7679\n",
      "Epoch 16/50\n",
      "281/281 [==============================] - 26s 92ms/step - loss: 3.1635 - val_loss: 3.7584\n",
      "Epoch 17/50\n",
      "281/281 [==============================] - 26s 92ms/step - loss: 3.1043 - val_loss: 3.7457\n",
      "Epoch 18/50\n",
      "281/281 [==============================] - 26s 92ms/step - loss: 3.0471 - val_loss: 3.7312\n",
      "Epoch 19/50\n",
      "281/281 [==============================] - 26s 92ms/step - loss: 2.9958 - val_loss: 3.7230\n",
      "Epoch 20/50\n",
      "281/281 [==============================] - 26s 92ms/step - loss: 2.9471 - val_loss: 3.7139\n",
      "Epoch 21/50\n",
      "281/281 [==============================] - 26s 92ms/step - loss: 2.9045 - val_loss: 3.7125\n",
      "Epoch 22/50\n",
      "281/281 [==============================] - 26s 92ms/step - loss: 2.8644 - val_loss: 3.7092\n",
      "Epoch 23/50\n",
      "281/281 [==============================] - 26s 92ms/step - loss: 2.8226 - val_loss: 3.7056\n",
      "Epoch 24/50\n",
      "281/281 [==============================] - 26s 92ms/step - loss: 2.7839 - val_loss: 3.7013\n",
      "Epoch 25/50\n",
      "281/281 [==============================] - 26s 92ms/step - loss: 2.7500 - val_loss: 3.7059\n",
      "Epoch 26/50\n",
      "281/281 [==============================] - 26s 92ms/step - loss: 2.7134 - val_loss: 3.7025\n",
      "Epoch 00026: early stopping\n"
     ]
    }
   ],
   "source": [
    "model.compile(optimizer='rmsprop', loss='sparse_categorical_crossentropy')\n",
    "\n",
    "es = EarlyStopping(monitor='val_loss', patience=2, verbose=1)\n",
    "\n",
    "history = model.fit(x=[encoder_input_train, decoder_input_train], y=decoder_target_train, \\\n",
    "          validation_data=([encoder_input_test, decoder_input_test], decoder_target_test), \\\n",
    "          batch_size=256, callbacks=[es], epochs=50)"
   ]
  },
  {
   "cell_type": "markdown",
   "id": "b8601255",
   "metadata": {},
   "source": [
    "* 조기 종료를 뜻하는 EarlyStopping은 특정 조건이 충족되면 훈련을 멈추는 역할\n",
    "* es = EarlyStopping(monitor='val_loss', patience=2, verbose=1) \n",
    "  - val_loss(검증 데이터의 손실)을 관찰하다가, 검증 데이터의 손실이 줄어들지 않고 \n",
    "    증가하는 현상이 2회(patience=2) 관측되면 학습을 멈추도록 설정\n",
    "* EarlyStopping이 작동한다면 epochs가 아무리 크게 설정되어 있어도 모델 훈련을 최적점에서 멈출 수 있음"
   ]
  },
  {
   "cell_type": "markdown",
   "id": "fdb6f4f6",
   "metadata": {},
   "source": [
    "### 훈련 데이터의 손실과 검증 데이터의 손실이 줄어드는 과정을 시각화"
   ]
  },
  {
   "cell_type": "code",
   "execution_count": 145,
   "id": "eefac86b",
   "metadata": {},
   "outputs": [
    {
     "data": {
      "image/png": "[encoded data removed]",
      "text/plain": [
       "<Figure size 432x288 with 1 Axes>"
      ]
     },
     "metadata": {
      "needs_background": "light"
     },
     "output_type": "display_data"
    }
   ],
   "source": [
    "plt.plot(history.history['loss'], label='train')\n",
    "plt.plot(history.history['val_loss'], label='test')\n",
    "plt.legend()\n",
    "plt.show()"
   ]
  },
  {
   "cell_type": "markdown",
   "id": "37b7d051",
   "metadata": {},
   "source": [
    "### 인퍼런스 모델 구현하기"
   ]
  },
  {
   "cell_type": "markdown",
   "id": "2912f505",
   "metadata": {},
   "source": [
    "* 테스트 단계에서는 정수 인덱스 행렬로 존재하던 텍스트 데이터를 실제 데이터로 복원 필요\n",
    "* 필요한 3개의 사전을 아래와 같이 미리 준비"
   ]
  },
  {
   "cell_type": "code",
   "execution_count": 146,
   "id": "b48a582e",
   "metadata": {},
   "outputs": [
    {
     "name": "stdout",
     "output_type": "stream",
     "text": [
      "=3\n"
     ]
    }
   ],
   "source": [
    "src_index_to_word = src_tokenizer.index_word # 원문 단어 집합에서 정수 -> 단어를 얻음\n",
    "tar_word_to_index = tar_tokenizer.word_index # 요약 단어 집합에서 단어 -> 정수를 얻음\n",
    "tar_index_to_word = tar_tokenizer.index_word # 요약 단어 집합에서 정수 -> 단어를 얻음\n",
    "\n",
    "print('=3')"
   ]
  },
  {
   "cell_type": "markdown",
   "id": "4ca34aad",
   "metadata": {},
   "source": [
    "* seq2seq는 훈련할 때와 실제 동작할 때(인퍼런스 단계)의 방식이 다르므로 그에 맞게 모델 설계를 별개로 진행해야 한다는 것\n",
    "* 훈련 단계에서는 디코더의 입력부에 정답이 되는 문장 전체를 한꺼번에 넣고 디코더의 출력과 한 번에 비교할 수 있으므로\n",
    "  인코더와 디코더를 엮은 통짜 모델 하나만 준비\n",
    "* 정답 문장이 없는 인퍼런스 단계에서는 만들어야 할 문장의 길이만큼 디코더가 반복 구조로 동작해야 하기 때문에\n",
    "  부득이하게 인퍼런스를 위한 모델 설계를 별도로 해주어야 합니다.\n",
    "*  이때는 인코더 모델과 디코더 모델을 분리해서 설계합니다."
   ]
  },
  {
   "cell_type": "markdown",
   "id": "9ab0b22a",
   "metadata": {},
   "source": [
    "### 인코더 설계"
   ]
  },
  {
   "cell_type": "code",
   "execution_count": 147,
   "id": "d3b12197",
   "metadata": {},
   "outputs": [
    {
     "name": "stdout",
     "output_type": "stream",
     "text": [
      "=3\n"
     ]
    }
   ],
   "source": [
    "# 인코더 설계\n",
    "encoder_model = Model(inputs=encoder_inputs, outputs=[encoder_output3, state_h3, state_c3])\n",
    "\n",
    "# 이전 시점의 상태들을 저장하는 텐서\n",
    "decoder_state_input_h = Input(shape=(hidden_size,))\n",
    "decoder_state_input_c = Input(shape=(hidden_size,))\n",
    "\n",
    "dec_emb2 = dec_emb_layer(decoder_inputs)\n",
    "\n",
    "# 문장의 다음 단어를 예측하기 위해서 초기 상태(initial_state)를 이전 시점의 상태로 사용. 이는 뒤의 함수 decode_sequence()에 구현\n",
    "# 훈련 과정에서와 달리 LSTM의 리턴하는 은닉 상태와 셀 상태인 state_h와 state_c를 버리지 않음.\n",
    "decoder_outputs2, state_h2, state_c2 = decoder_lstm(dec_emb2, initial_state=[decoder_state_input_h, decoder_state_input_c])\n",
    "\n",
    "print('=3')"
   ]
  },
  {
   "cell_type": "markdown",
   "id": "6a574a1f",
   "metadata": {},
   "source": [
    "### 어텐션 메커니즘을 사용하는 출력층을 설계"
   ]
  },
  {
   "cell_type": "code",
   "execution_count": 148,
   "id": "5cffc2d1",
   "metadata": {},
   "outputs": [
    {
     "name": "stdout",
     "output_type": "stream",
     "text": [
      "=3\n"
     ]
    }
   ],
   "source": [
    "# 어텐션 함수\n",
    "decoder_hidden_state_input = Input(shape=(text_max_len, hidden_size))\n",
    "attn_out_inf = attn_layer([decoder_outputs2, decoder_hidden_state_input])\n",
    "decoder_inf_concat = Concatenate(axis=-1, name='concat')([decoder_outputs2, attn_out_inf])\n",
    "\n",
    "# 디코더의 출력층\n",
    "decoder_outputs2 = decoder_softmax_layer(decoder_inf_concat) \n",
    "\n",
    "# 최종 디코더 모델\n",
    "decoder_model = Model(\n",
    "    [decoder_inputs] + [decoder_hidden_state_input,decoder_state_input_h, decoder_state_input_c],\n",
    "    [decoder_outputs2] + [state_h2, state_c2])\n",
    "\n",
    "print('=3')"
   ]
  },
  {
   "cell_type": "markdown",
   "id": "16c6baf8",
   "metadata": {},
   "source": [
    "### 인퍼런스 단계에서 단어 시퀀스를 완성하는 함수 만들기"
   ]
  },
  {
   "cell_type": "code",
   "execution_count": 154,
   "id": "7d15e7dd",
   "metadata": {},
   "outputs": [
    {
     "name": "stdout",
     "output_type": "stream",
     "text": [
      "=3\n"
     ]
    }
   ],
   "source": [
    "def decode_sequence(input_seq):\n",
    "    # 입력으로부터 인코더의 상태를 얻음\n",
    "    e_out, e_h, e_c = encoder_model.predict(input_seq)\n",
    "\n",
    "     # <SOS>에 해당하는 토큰 생성\n",
    "    target_seq = np.zeros((1,1))\n",
    "    target_seq[0, 0] = tar_word_to_index['sostoken']\n",
    "\n",
    "    stop_condition = False\n",
    "    decoded_sentence = ''\n",
    "    while not stop_condition: # stop_condition이 True가 될 때까지 루프 반복\n",
    "\n",
    "        output_tokens, h, c = decoder_model.predict([target_seq] + [e_out, e_h, e_c])\n",
    "        sampled_token_index = np.argmax(output_tokens[0, -1, :])\n",
    "        sampled_token = tar_index_to_word[sampled_token_index]\n",
    "\n",
    "        if (sampled_token!='eostoken'):\n",
    "            decoded_sentence += ' '+sampled_token\n",
    "\n",
    "        #  <eos>에 도달하거나 최대 길이를 넘으면 중단.\n",
    "        if (sampled_token == 'eostoken'  or len(decoded_sentence.split()) >= (headlines_max_len-1)):\n",
    "            stop_condition = True\n",
    "\n",
    "        # 길이가 1인 타겟 시퀀스를 업데이트\n",
    "        target_seq = np.zeros((1,1))\n",
    "        target_seq[0, 0] = sampled_token_index\n",
    "\n",
    "        # 상태를 업데이트 합니다.\n",
    "        e_h, e_c = h, c\n",
    "\n",
    "    return decoded_sentence\n",
    "\n",
    "print('=3')"
   ]
  },
  {
   "cell_type": "markdown",
   "id": "fb7cba1d",
   "metadata": {},
   "source": [
    "### 모델 테스트하기"
   ]
  },
  {
   "cell_type": "markdown",
   "id": "5d347869",
   "metadata": {},
   "source": [
    "* 테스트 단계에서는 정수 시퀀스 -> 텍스트 시퀀스로 변환하여 결과를 확인하는 것이 편하다\n",
    "* text의 정수 시퀀스에서는 패딩을 위해 사용되는 숫자 0을 제외하고, (seq2text 함수)\n",
    "* headlines의 정수 시퀀스에서는 숫자 0, 시작 토큰의 인덱스, 종료 토큰의 인덱스를 출력에서 제외 (seq2summary 함수)"
   ]
  },
  {
   "cell_type": "code",
   "execution_count": 155,
   "id": "c739f305",
   "metadata": {},
   "outputs": [
    {
     "name": "stdout",
     "output_type": "stream",
     "text": [
      "=3\n"
     ]
    }
   ],
   "source": [
    "# 원문의 정수 시퀀스를 텍스트 시퀀스로 변환\n",
    "def seq2text(input_seq):\n",
    "    temp=''\n",
    "    for i in input_seq:\n",
    "        if (i!=0):\n",
    "            temp = temp + src_index_to_word[i]+' '\n",
    "    return temp\n",
    "\n",
    "# 요약문의 정수 시퀀스를 텍스트 시퀀스로 변환\n",
    "def seq2headlines(input_seq):\n",
    "    temp = ''\n",
    "    for i in input_seq:\n",
    "        if (i!=0) and (i != tar_word_to_index['sostoken']) and (i != tar_word_to_index['eostoken']):\n",
    "            temp = temp + tar_index_to_word[i] + ' '\n",
    "    return temp\n",
    "\n",
    "print('=3')"
   ]
  },
  {
   "cell_type": "markdown",
   "id": "5b93ab08",
   "metadata": {},
   "source": [
    "### Step 4. 실제 결과와 요약문 비교하기 (추상적 요약)"
   ]
  },
  {
   "cell_type": "markdown",
   "id": "380d7ad9",
   "metadata": {},
   "source": [
    "* 원래의 요약문(headlines 열)과 학습을 통해 얻은 추상적 요약의 결과를 비교"
   ]
  },
  {
   "cell_type": "code",
   "execution_count": 156,
   "id": "7a86b614",
   "metadata": {},
   "outputs": [
    {
     "name": "stdout",
     "output_type": "stream",
     "text": [
      "원문 : former uttar pradesh cm akhilesh yadav monday alleged bjp government state failed create job opportunities state address farmer issues debt ridden farmers committing suicide future youth dark said said students raise issues sent jail \n",
      "실제 요약 : up govt failed to create jobs address farm ex cm \n",
      "예측 요약 :  akhilesh yadav calls people money to kill up\n",
      "\n",
      "\n",
      "원문 : ahead republic day parade noida police issued traffic advisory banning entry heavy transport vehicles delhi noida thursday night friday afternoon entry heavy vehicles banned kunj new ashok nagar border police said vehicles allowed ply police added \n",
      "실제 요약 : entry of heavy vehicles to delhi banned before republic day \n",
      "예측 요약 :  noida metro to protest against vehicles over pollution\n",
      "\n",
      "\n",
      "원문 : rss ideologue du professor rakesh sinha mistaken protestor police detained bharat bandh protests alleged dilution sc st act going take part panel discussion media house noida pulled inside police jeep said released \n",
      "실제 요약 : rss mistaken for detained during bandh \n",
      "예측 요약 :  ex guj prez protests against rss for anti riots\n",
      "\n",
      "\n",
      "원문 : election commission said media reports claiming evms vvpats failed large scale exaggerated projection reality adding takes less minutes replace faulty machines ec said replacement faulty evms recent lok sabha assembly bypolls uttar pradesh maharashtra elections normal process \n",
      "실제 요약 : reports on large scale failure of evms exaggerated ec \n",
      "예측 요약 :  ec rejects plea against ec for ec\n",
      "\n",
      "\n",
      "원문 : sri lanka unable directly qualify world cup failing win least two odis ongoing series india world champions direct qualification dependent result windies upcoming odis top seven odi teams apart hosts england september directly qualify tournament \n",
      "실제 요약 : sri lanka fail to directly qualify for world cup \n",
      "예측 요약 :  sri lanka beat pakistan to win cup in wc\n",
      "\n",
      "\n",
      "원문 : chandigarh district court tuesday dismissed bail plea filed haryana bjp chief subhash barala son vikas friend accused stalking year old woman chandigarh police reportedly submitted reply court recommending accused granted bail duo facing charges stalking wrongful restraint attempted abduction \n",
      "실제 요약 : chandigarh stalking accused bail plea rejected \n",
      "예측 요약 :  chandigarh stalking case against stalking accused in stalking case\n",
      "\n",
      "\n",
      "원문 : congress vice president rahul gandhi monday tweeted picture pm narendra modi chinese president xi jinping series tweets wherein defended meeting chinese ambassador india congress initially denied reports gandhi meeting chinese envoy later acknowledged courtesy meeting \n",
      "실제 요약 : rahul attacks modi over picture with chinese president \n",
      "예측 요약 :  rahul gandhi tweets user on rahul gandhi\n",
      "\n",
      "\n",
      "원문 : shares hong kong listed wanda hotel development run china third richest man wang soared monday came wanda group announced sale hotels tourism projects billion sale reportedly china second biggest real estate deal ever \n",
      "실제 요약 : billionaire firm stock surges on hotels deal \n",
      "예측 요약 :  hong kong richest man sells for crore\n",
      "\n",
      "\n",
      "원문 : us based study found cars bumper bumper signals movement traffic light goes green researchers suggested contrary popular opinion cars stopped farther apart would help accelerate quickly team found time required cars pass remained fixed feet \n",
      "실제 요약 : to car at signal traffic study \n",
      "예측 요약 :  high team makes new blood to make from roads\n",
      "\n",
      "\n",
      "원문 : jagannath year old sarpanch madhya pradesh morena district removed position forging documents marry year old girl incident came light submitted application build temporary booking helicopter ride wedding barred contesting local body polls next six years \n",
      "실제 요약 : mp sarpanch fired for planning wedding with yr old \n",
      "예측 요약 :  man gives birth to girl for talking to girl\n",
      "\n",
      "\n",
      "원문 : us president donald trump pardoned conservative indian american writer dinesh souza thursday convicted violating campaign finance laws sentenced five years probation admitting crime souza critic barack obama hillary clinton earlier released film titled obama america based book roots obama rage \n",
      "실제 요약 : trump indian american author dinesh souza \n",
      "예측 요약 :  trump st indian judge to get sexual assault\n",
      "\n",
      "\n",
      "원문 : google removed apps play store found contain malware hijacked devices apps offered services like hacked users android devices provide traffic distributed denial service attacks devices attacks internet connected device flooded data making \n",
      "실제 요약 : google removes apps found to be devices \n",
      "예측 요약 :  bug bug bug to let users users in users\n",
      "\n",
      "\n",
      "원문 : european union law abolish roaming charges people using cellphones abroad came force thursday follows agreement required operators offer service phone users throughout bloc european commission said end roaming charges one greatest successes eu \n",
      "실제 요약 : eu mobile charges scrapped \n",
      "예측 요약 :  uk parliament panel to withdraw eu eu to\n",
      "\n",
      "\n",
      "원문 : chris parker homeless man hailed hero helping victims aftermath manchester bombing may charged two counts theft parker allegedly stole credit card victim laid injured following attack ariana grande concert killed people injured others \n",
      "실제 요약 : homeless manchester attack hero stole victim credit card \n",
      "예측 요약 :  man who stole from us to be stolen\n",
      "\n",
      "\n",
      "원문 : former us basketball player dennis rodman cried spoke summit us president donald trump north korean leader kim jong un said everybody door open knew things going change stated rodman called kim friend life met north korean leader three times since \n",
      "실제 요약 : video cries while discussing trump kim summit \n",
      "예측 요약 :  kim jong un meeting trump to be trump\n",
      "\n",
      "\n",
      "원문 : actress priyanka chopra paid remuneration crore upcoming film bharat per reports team reportedly quoted crore remuneration salman khan starrer figure came crore bharat mark priyanka comeback bollywood three years \n",
      "실제 요약 : priyanka chopra to be paid crore for bharat reports \n",
      "예측 요약 :  priyanka nick to play crore in mumbai report\n",
      "\n",
      "\n",
      "원문 : french fashion designer chanel introduced little black dress popularly known picture dress first appeared vogue america words world wear today marks late designer th death anniversary \n",
      "실제 요약 : chanel introduced the little black dress \n",
      "예측 요약 :  model dress features on magazine cover of magazine\n",
      "\n",
      "\n",
      "원문 : delhi government monday flagged six mobile vans raise awareness goods services tax address concerns traders regarding new tax regime vans would run different markets across city around days officials would address issues raised traders also take suggestions \n",
      "실제 요약 : delhi govt launches gst vans to address traders concerns \n",
      "예측 요약 :  delhi govt launches mobile tax service to curb payment\n",
      "\n",
      "\n",
      "원문 : fashion designer showcased condom shaped dresses rubber seemed resemble united states president donald trump head london fashion week meanwhile designs collection seemingly inspired inflatable swimming pools collection gone viral instagram \n",
      "실제 요약 : condom shaped dresses at london fashion week \n",
      "예측 요약 :  artist makes house that inspired white house house\n",
      "\n",
      "\n",
      "원문 : despite multiple hacking details crore yahoo accounts sale internet crore best offer according new york times report passwords accounts work dates birth telephone numbers security questions could used report added \n",
      "실제 요약 : crore yahoo accounts details on sale at crore \n",
      "예측 요약 :  yahoo to pay crore to refund for crore\n",
      "\n",
      "\n"
     ]
    }
   ],
   "source": [
    "for i in range(50, 70):\n",
    "    print(\"원문 :\", seq2text(encoder_input_test[i]))\n",
    "    print(\"실제 요약 :\", seq2headlines(decoder_input_test[i]))\n",
    "    print(\"예측 요약 :\", decode_sequence(encoder_input_test[i].reshape(1, text_max_len)))\n",
    "    print(\"\\n\")"
   ]
  },
  {
   "cell_type": "markdown",
   "id": "93747b9e",
   "metadata": {},
   "source": [
    "### Step 5. Summa을 이용해서 추출적 요약해보기"
   ]
  },
  {
   "cell_type": "markdown",
   "id": "724762a1",
   "metadata": {},
   "source": [
    "* 추상적 요약 : 문장의 표현력을 다양하게, 난이도가 높아요\n",
    "* 추출적 요약 : 추상적 요약에 비해 난이도가 낮고 기존 문장에서 문장을 꺼내오는 것, 잘못된 요약이 나올 가능성이 낮아요\n",
    "* Summa의 summarize를 사용하여 추출적 요약 해보기"
   ]
  },
  {
   "cell_type": "markdown",
   "id": "98af224b",
   "metadata": {},
   "source": [
    "* seq2seq를 통해서 추상적 요약을 진행\n",
    "* 텍스트 요약에는 추상적 요약 외에도 이미 본문에 존재하는 단어구, 문장을 뽑아서 요약으로 삼는 추출적 요약 방법\n",
    "* 패키지 Summa에서는 추출적 요약을 위한 모듈인 summarize를 제공\n",
    "* 영화 매트릭스 시놉시스를 요약해보면서 summarize 사용법 익히기"
   ]
  },
  {
   "cell_type": "markdown",
   "id": "cd76b912",
   "metadata": {},
   "source": [
    "### 패키지 설치 (summa 설치)"
   ]
  },
  {
   "cell_type": "code",
   "execution_count": 157,
   "id": "3ffaf3a4",
   "metadata": {},
   "outputs": [
    {
     "name": "stdout",
     "output_type": "stream",
     "text": [
      "Requirement already satisfied: summa in /opt/conda/lib/python3.9/site-packages (1.2.0)\n",
      "Requirement already satisfied: scipy>=0.19 in /opt/conda/lib/python3.9/site-packages (from summa) (1.7.1)\n",
      "Requirement already satisfied: numpy<1.23.0,>=1.16.5 in /opt/conda/lib/python3.9/site-packages (from scipy>=0.19->summa) (1.21.4)\n",
      "\u001b[33mWARNING: Running pip as the 'root' user can result in broken permissions and conflicting behaviour with the system package manager. It is recommended to use a virtual environment instead: https://pip.pypa.io/warnings/venv\u001b[0m\n"
     ]
    }
   ],
   "source": [
    "!pip install summa"
   ]
  },
  {
   "cell_type": "code",
   "execution_count": 158,
   "id": "b208f9d5",
   "metadata": {},
   "outputs": [
    {
     "name": "stdout",
     "output_type": "stream",
     "text": [
      "summa                         1.2.0\r\n"
     ]
    }
   ],
   "source": [
    "!pip list | grep summa"
   ]
  },
  {
   "cell_type": "markdown",
   "id": "565c5f0c",
   "metadata": {},
   "source": [
    "### 데이터 다운로드하기"
   ]
  },
  {
   "cell_type": "code",
   "execution_count": 159,
   "id": "247c1c26",
   "metadata": {},
   "outputs": [],
   "source": [
    "import requests\n",
    "from summa.summarizer import summarize"
   ]
  },
  {
   "cell_type": "code",
   "execution_count": 160,
   "id": "2b1b602d",
   "metadata": {},
   "outputs": [],
   "source": [
    "# 매트릭스 시놉시스를 다운로드\n",
    "\n",
    "text = requests.get('http://rare-technologies.com/the_matrix_synopsis.txt').text"
   ]
  },
  {
   "cell_type": "code",
   "execution_count": 161,
   "id": "1b887435",
   "metadata": {},
   "outputs": [
    {
     "name": "stdout",
     "output_type": "stream",
     "text": [
      "The screen is filled with green, cascading code which gives way to the title, The Matrix.\r\n",
      "\r\n",
      "A phone rings and text appears on the screen: \"Call trans opt: received. 2-19-98 13:24:18 REC: Log>\" As a conversation takes place between Trinity (Carrie-Anne Moss) and Cypher (Joe Pantoliano), two free humans, a table of random green numbers are being scanned and individual numbers selected, creating a series of digits not unlike an ordinary phone number, as if a code is being deciphered or a call is being traced.\r\n",
      "\r\n",
      "Trinity discusses some unknown person. Cypher taunts Trinity, suggesting she enjoys watching him. Trinity counters that \"Morpheus (Laurence Fishburne) says he may be 'the One',\" just as the sound of a number being selected alerts Trinity that someone may be tracing their call. She ends the call.\r\n",
      "\r\n",
      "Armed policemen move down a darkened, decrepit hallway in the Heart O' the City Hotel, their flashlight beam bouncing just ahead of them. They come to room 303, kick down the door and find a woman dressed in black, facing away from them. It's Trinity. She brings her hands up from the laptop she's working on at their command.\r\n",
      "\r\n",
      "Outside the hotel a car drives up and three agents appear in neatly pressed black suits. They are Agent Smith (Hugo Weaving), Agent Brown (Paul Goddard), and Agent Jones (Robert Taylor). Agent Smith and the presiding police lieutenant argue. Agent Smith admonishes the policeman that they were given specific orders to contact the agents first, for their\n"
     ]
    }
   ],
   "source": [
    "# text에는 매트릭스 시놉시스가 문자열로 저장\n",
    "# 일부만 출력해보고, 잘 저장이 되었는지 확인\n",
    "\n",
    "print(text[:1500])"
   ]
  },
  {
   "cell_type": "markdown",
   "id": "4bbbb14a",
   "metadata": {},
   "source": [
    "### summarize 사용하기"
   ]
  },
  {
   "cell_type": "markdown",
   "id": "ce5d238f",
   "metadata": {},
   "source": [
    "* Summa의 summarize()의 인자로 사용되는 값들에 대해서 알아보기\n",
    "* ===========================================================\n",
    "* text (str) : 요약할 테스트.\n",
    "* ratio (float, optional) – 요약문에서 원본에서 선택되는 문장 비율. 0~1 사이값\n",
    "* words (int or None, optional) – 출력에 포함할 단어 수.\n",
    "  만약, ratio와 함께 두 파라미터가 모두 제공되는 경우 ratio는 무시한다.\n",
    "* split (bool, optional) – True면 문장 list / False는 조인(join)된 문자열을 반환"
   ]
  },
  {
   "cell_type": "markdown",
   "id": "3ff0aa29",
   "metadata": {},
   "source": [
    "* Summa의 summarize는 문장 토큰화를 별도로 하지 않더라도 내부적으로 문장 토큰화를 수행\n",
    "* 그렇기 때문에 문장 구분이 되어있지 않은 원문을 바로 입력으로 넣을 수 있어요\n",
    "* 비율을 적게 주어서 요약문으로 선택되는 문장의 개수를 줄이기 (원문의 0.005%만을 출력)"
   ]
  },
  {
   "cell_type": "code",
   "execution_count": 162,
   "id": "91181aed",
   "metadata": {},
   "outputs": [
    {
     "name": "stdout",
     "output_type": "stream",
     "text": [
      "headlines:\n",
      "Morpheus, Trinity, Neo, Apoc, Switch, Mouse and Cypher are jacked into the Matrix.\n",
      "Trinity brings the helicopter down to the floor that Morpheus is on and Neo opens fire on the three Agents.\n"
     ]
    }
   ],
   "source": [
    "print('headlines:')\n",
    "print(summarize(text, ratio=0.005))"
   ]
  },
  {
   "cell_type": "code",
   "execution_count": 163,
   "id": "b2a31284",
   "metadata": {},
   "outputs": [
    {
     "name": "stdout",
     "output_type": "stream",
     "text": [
      "headlines:\n",
      "['Morpheus, Trinity, Neo, Apoc, Switch, Mouse and Cypher are jacked into the Matrix.', 'Trinity brings the helicopter down to the floor that Morpheus is on and Neo opens fire on the three Agents.']\n"
     ]
    }
   ],
   "source": [
    "# 리스트로 출력 결과를 받고 싶다면 split 인자의 값을 True\n",
    "\n",
    "print('headlines:')\n",
    "print(summarize(text, ratio=0.005, split=True))"
   ]
  },
  {
   "cell_type": "code",
   "execution_count": 165,
   "id": "e54a5c33",
   "metadata": {},
   "outputs": [
    {
     "name": "stdout",
     "output_type": "stream",
     "text": [
      "headlines:\n",
      "Morpheus, Trinity, Neo, Apoc, Switch, Mouse and Cypher are jacked into the Matrix.\n",
      "Trinity brings the helicopter down to the floor that Morpheus is on and Neo opens fire on the three Agents.\n"
     ]
    }
   ],
   "source": [
    "# 단어의 수로 요약문의 크기를 조절할 수도 있다.\n",
    "# 단어를 30개만 선택\n",
    "\n",
    "print('headlines:')\n",
    "print(summarize(text, words=30))"
   ]
  },
  {
   "cell_type": "code",
   "execution_count": null,
   "id": "82d1798c",
   "metadata": {},
   "outputs": [],
   "source": []
  },
  {
   "cell_type": "markdown",
   "id": "f24ef9ad",
   "metadata": {},
   "source": [
    "# 회고"
   ]
  },
  {
   "cell_type": "markdown",
   "id": "c374b8bd",
   "metadata": {},
   "source": [
    "* 뉴스기사 요약하는 기능의 전처리를 통해 처리해야 하는 기능이 많은것에 일단 놀랐고, 이과정을 순서대로 정리하고\n",
    "  처리하면서 해당 기능이 어떤 처리를 하는지 정리하고 테스트 하기 바빴다.\n",
    "* 샘플의 최대 길이를 정하기 위하여 자료를 확인하고 결정하는 기준이 정확히 무엇인지 아직도 잘 이해가 안된다.\n",
    "  수치로 확정하기 위한 경험치가 없어서 인지.\n",
    "* 두번을 작성하고도 아직도 명확히 처리과정을 이해하는게 아니라서.. 더 내용을보고 실제 사용하는 방법을 알아봐야 이해가\n",
    "  될거 같다."
   ]
  },
  {
   "cell_type": "code",
   "execution_count": null,
   "id": "eb1bb153",
   "metadata": {},
   "outputs": [],
   "source": []
  }
 ],
 "metadata": {
  "kernelspec": {
   "display_name": "Python 3 (ipykernel)",
   "language": "python",
   "name": "python3"
  },
  "language_info": {
   "codemirror_mode": {
    "name": "ipython",
    "version": 3
   },
   "file_extension": ".py",
   "mimetype": "text/x-python",
   "name": "python",
   "nbconvert_exporter": "python",
   "pygments_lexer": "ipython3",
   "version": "3.9.7"
  }
 },
 "nbformat": 4,
 "nbformat_minor": 5
}
